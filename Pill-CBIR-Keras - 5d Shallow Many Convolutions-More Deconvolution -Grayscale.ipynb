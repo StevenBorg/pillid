{
 "cells": [
  {
   "cell_type": "code",
   "execution_count": 1,
   "metadata": {},
   "outputs": [],
   "source": [
    "# This is the initial take of pulling the MNIST CBIR from https://blog.sicara.com/keras-tutorial-content-based-image-retrieval-convolutional-denoising-autoencoder-dc91450cc511\n",
    "#    and making it work in a Jupyter notebook for unrotated pill images.\n",
    "\n"
   ]
  },
  {
   "cell_type": "code",
   "execution_count": 2,
   "metadata": {},
   "outputs": [
    {
     "name": "stderr",
     "output_type": "stream",
     "text": [
      "/anaconda3/lib/python3.6/site-packages/h5py/__init__.py:36: FutureWarning: Conversion of the second argument of issubdtype from `float` to `np.floating` is deprecated. In future, it will be treated as `np.float64 == np.dtype(float).type`.\n",
      "  from ._conv import register_converters as _register_converters\n",
      "Using TensorFlow backend.\n"
     ]
    },
    {
     "data": {
      "text/plain": [
       "'2.2.2'"
      ]
     },
     "execution_count": 2,
     "metadata": {},
     "output_type": "execute_result"
    }
   ],
   "source": [
    "import keras\n",
    "keras.__version__"
   ]
  },
  {
   "cell_type": "code",
   "execution_count": 3,
   "metadata": {
    "scrolled": true
   },
   "outputs": [
    {
     "name": "stdout",
     "output_type": "stream",
     "text": [
      "[name: \"/device:CPU:0\"\n",
      "device_type: \"CPU\"\n",
      "memory_limit: 268435456\n",
      "locality {\n",
      "}\n",
      "incarnation: 16660412135170638383\n",
      "]\n"
     ]
    }
   ],
   "source": [
    "from tensorflow.python.client import device_lib\n",
    "print(device_lib.list_local_devices())"
   ]
  },
  {
   "cell_type": "code",
   "execution_count": 4,
   "metadata": {},
   "outputs": [],
   "source": [
    "import tensorflow as tf\n",
    "sess = tf.Session(config=tf.ConfigProto(log_device_placement=True))"
   ]
  },
  {
   "cell_type": "code",
   "execution_count": 5,
   "metadata": {},
   "outputs": [],
   "source": [
    "from keras import backend as K\n",
    "#K.tensorflow_backend._get_available_gpus()"
   ]
  },
  {
   "cell_type": "markdown",
   "metadata": {},
   "source": [
    "## Train model"
   ]
  },
  {
   "cell_type": "code",
   "execution_count": 6,
   "metadata": {},
   "outputs": [],
   "source": [
    "target_image_size = (52,100)"
   ]
  },
  {
   "cell_type": "code",
   "execution_count": 250,
   "metadata": {},
   "outputs": [],
   "source": [
    "# Import required items for training\n",
    "from keras.layers import Input, Conv2D, MaxPooling2D, UpSampling2D, ZeroPadding2D, Dense, GlobalMaxPooling2D\n",
    "from keras.models import Model\n",
    "from keras.callbacks import TensorBoard, EarlyStopping\n",
    "from keras import callbacks\n",
    "from keras.datasets import mnist\n",
    "from keras.preprocessing.image import ImageDataGenerator\n",
    "import numpy as np\n",
    "\n",
    "\n",
    "# For training\n",
    "# Import needed libraries\n",
    "import numpy as np\n",
    "from keras.models import Model\n",
    "from keras.datasets import mnist\n",
    "#import cv2\n",
    "from keras.models import load_model\n",
    "from sklearn.metrics import label_ranking_average_precision_score\n",
    "import time\n",
    "import matplotlib.pyplot as plt\n",
    "import matplotlib.image as mpimg\n"
   ]
  },
  {
   "cell_type": "code",
   "execution_count": 147,
   "metadata": {},
   "outputs": [],
   "source": [
    "def display_image(single_image):\n",
    "    #check to see if image is rgb\n",
    "    if (np.shape(single_image)[-1]==3):\n",
    "        plt.imshow(single_image)\n",
    "    if (np.shape(single_image)[-1]==1):\n",
    "        si = np.concatenate((single_image,single_image,single_image), axis=2)\n",
    "        plt.imshow(si)\n",
    "        \n",
    "def get_image(single_image):\n",
    "    #check to see if image is rgb\n",
    "    if (np.shape(single_image)[-1]==3):\n",
    "        return single_image\n",
    "    if (np.shape(single_image)[-1]==1):\n",
    "        si = np.concatenate((single_image,single_image,single_image), axis=2)\n",
    "        return si\n",
    "    "
   ]
  },
  {
   "cell_type": "code",
   "execution_count": 148,
   "metadata": {},
   "outputs": [
    {
     "name": "stdout",
     "output_type": "stream",
     "text": [
      "Found 722 images belonging to 1 classes.\n",
      "Found 191 images belonging to 1 classes.\n"
     ]
    }
   ],
   "source": [
    "# Load the data (in that case MNIST)\n",
    "train_datagen = ImageDataGenerator(\n",
    "        #shear_range=0.05,\n",
    "        #zoom_range=0.01,\n",
    "        #rotation_range=5.00,\n",
    "        #height_shift_range=0.10,\n",
    "        #width_shift_range=0.10,\n",
    "        rescale=1. / 255,\n",
    "        horizontal_flip=False)\n",
    "\n",
    "validation_datagen = ImageDataGenerator(rescale=1. / 255)\n",
    "\n",
    "train_generator = train_datagen.flow_from_directory(\n",
    "        'data_with_rotations/train',\n",
    "        target_size=target_image_size,\n",
    "        batch_size=16,\n",
    "        class_mode='input',\n",
    "        color_mode='grayscale')\n",
    "\n",
    "validation_generator = validation_datagen.flow_from_directory(\n",
    "        'data_with_rotations/validate',\n",
    "        target_size=target_image_size,\n",
    "        batch_size=32,\n",
    "        class_mode='input',\n",
    "        color_mode='grayscale')\n",
    "\n"
   ]
  },
  {
   "cell_type": "code",
   "execution_count": 149,
   "metadata": {},
   "outputs": [
    {
     "name": "stdout",
     "output_type": "stream",
     "text": [
      "Found 96 images belonging to 1 classes.\n",
      "1\n"
     ]
    },
    {
     "data": {
      "image/png": "[encoded data removed]",
      "text/plain": [
       "<Figure size 432x288 with 1 Axes>"
      ]
     },
     "metadata": {},
     "output_type": "display_data"
    }
   ],
   "source": [
    "# Get 16 sample images to use throughout all the training for visualization\n",
    "# Load Test images to generate testing data\n",
    "sample_datagen = ImageDataGenerator(rescale=1. / 255)\n",
    "\n",
    "sample_generator = sample_datagen.flow_from_directory(\n",
    "        'data_with_rotations/test',\n",
    "        target_size=target_image_size,\n",
    "        batch_size=16,\n",
    "        class_mode='input',\n",
    "        color_mode='grayscale')\n",
    "\n",
    "next_batch = next(sample_generator)\n",
    "sample_images = next_batch[0]\n",
    "test_image=sample_images[1]\n",
    "ti = test_image\n",
    "\n",
    "print(np.shape(ti)[-1])\n",
    "\n",
    "display_image(test_image)\n",
    "\n",
    "#test_display = np.concatenate((ti,ti,ti), axis=2)\n",
    "\n",
    "#plt.imshow(test_display)\n",
    "\n",
    "#plt.show()\n"
   ]
  },
  {
   "cell_type": "code",
   "execution_count": 150,
   "metadata": {},
   "outputs": [
    {
     "data": {
      "text/plain": [
       "(16, 52, 100, 1)"
      ]
     },
     "execution_count": 150,
     "metadata": {},
     "output_type": "execute_result"
    }
   ],
   "source": [
    "len(test_image[:,:,0])\n",
    "np.shape(sample_images)"
   ]
  },
  {
   "cell_type": "code",
   "execution_count": 252,
   "metadata": {},
   "outputs": [],
   "source": [
    "def define_model():\n",
    "    \n",
    "    big_conv = (7,7)\n",
    "    num_conv = 128\n",
    "    \n",
    "    \n",
    "    #Input\n",
    "    input_img = Input(shape=(52, 100, 1))  # adapt this if using `channels_first` image data format\n",
    "    \n",
    "    # Layer 10\n",
    "    encoded2 = Conv2D(64, (5,5), activation='relu', padding='same')(input_img)\n",
    "    encoded = Conv2D(16, (3, 3), activation='sigmoid', padding='same', name='encoder')(encoded2)\n",
    "    flat = GlobalMaxPooling2D(name='flat_encoded')(encoded)\n",
    "    \n",
    "    \n",
    "    decoded_first = Conv2D(32, (3,3), activation='sigmoid', padding='same', name='decoded_first')(encoded)\n",
    "\n",
    "\n",
    "    # Output\n",
    "    decoded = Conv2D(1, (5,5), activation='sigmoid', padding='same', name='decoded')(decoded_first)\n",
    "    #. Conv2d left with a good image, but a chunk of fuzzyiness\n",
    "    \n",
    "    #decoded = Dense(3, activation='tanh')(encoded)\n",
    "\n",
    "    autoencoder = Model(input_img, outputs=decoded)\n",
    "    autoencoder.compile(optimizer='adadelta', loss='binary_crossentropy')\n",
    "\n",
    "    print(autoencoder.outputs)\n",
    "        \n",
    "    return autoencoder\n",
    "    \n",
    "    #autoencoder.fit_generator(\n",
    "    #    train_generator,\n",
    "    #    steps_per_epoch=2000,\n",
    "    #    epochs=10,\n",
    "    #    validation_data=validation_generator,\n",
    "    #    validation_steps=800)\n",
    "        #callbacks=[TensorBoard(log_dir='/tmp/tb', histogram_freq=0, write_graph=False)])\n",
    "    \n",
    "    # autoencoder.save('autoencoder_pill.h5')\n",
    "\n"
   ]
  },
  {
   "cell_type": "code",
   "execution_count": 253,
   "metadata": {},
   "outputs": [],
   "source": [
    "class ProgressCallback(callbacks.Callback):\n",
    "    def on_epoch_end(self, epoch, logs={}):\n",
    "        #print('epoch ended')\n",
    "        #print(self.model)\n",
    "        \n",
    "        processed_images = self.model.predict(x=sample_images,batch_size=16)\n",
    "         \n",
    "        \n",
    "        # plot the image\n",
    "        f = plt.figure()\n",
    "        f.add_subplot(1, 2, 1)  # this line outputs images side-by-side\n",
    "        sim = get_image(sample_images[0])\n",
    "        plt.imshow(sim)\n",
    "        f.add_subplot(1, 2, 2)  # this line outputs images side-by-side\n",
    "        pim = get_image(processed_images[0])\n",
    "        plt.imshow(pim)\n",
    "        plt.suptitle('Epoch ' + str(epoch))\n",
    "        filename = 'epoch-' + str(epoch) + '.png'\n",
    "        plt.savefig(filename)\n",
    "        plt.close()\n",
    "        #plt.show()\n"
   ]
  },
  {
   "cell_type": "code",
   "execution_count": 254,
   "metadata": {},
   "outputs": [],
   "source": [
    "\n",
    "\n",
    "def train_model(model_to_train):\n",
    "    progress = ProgressCallback()\n",
    "    early_stop = EarlyStopping(monitor='val_loss',\n",
    "                              min_delta=0,\n",
    "                              patience=4,\n",
    "                              verbose=0, mode='auto')\n",
    "    model_to_train.fit_generator(\n",
    "        train_generator,\n",
    "        steps_per_epoch=200,\n",
    "        epochs=5,\n",
    "        validation_data=validation_generator,\n",
    "        validation_steps=50,\n",
    "        callbacks=[TensorBoard(log_dir='/tmp/tb', histogram_freq=0, write_graph=False),progress,early_stop])\n",
    "    \n",
    "    model_to_train.save('autoencoder_pill4.h5')\n",
    "    \n",
    "    return model_to_train"
   ]
  },
  {
   "cell_type": "code",
   "execution_count": 255,
   "metadata": {
    "scrolled": true
   },
   "outputs": [
    {
     "name": "stdout",
     "output_type": "stream",
     "text": [
      "[<tf.Tensor 'decoded_13/Sigmoid:0' shape=(?, 52, 100, 1) dtype=float32>]\n"
     ]
    }
   ],
   "source": [
    "# Train the model\n",
    "x = define_model()"
   ]
  },
  {
   "cell_type": "code",
   "execution_count": 256,
   "metadata": {},
   "outputs": [
    {
     "name": "stdout",
     "output_type": "stream",
     "text": [
      "_________________________________________________________________\n",
      "Layer (type)                 Output Shape              Param #   \n",
      "=================================================================\n",
      "input_11 (InputLayer)        (None, 52, 100, 1)        0         \n",
      "_________________________________________________________________\n",
      "conv2d_7 (Conv2D)            (None, 52, 100, 64)       1664      \n",
      "_________________________________________________________________\n",
      "encoder (Conv2D)             (None, 52, 100, 16)       9232      \n",
      "_________________________________________________________________\n",
      "decoded_first (Conv2D)       (None, 52, 100, 32)       4640      \n",
      "_________________________________________________________________\n",
      "decoded (Conv2D)             (None, 52, 100, 1)        801       \n",
      "=================================================================\n",
      "Total params: 16,337\n",
      "Trainable params: 16,337\n",
      "Non-trainable params: 0\n",
      "_________________________________________________________________\n",
      "None\n"
     ]
    }
   ],
   "source": [
    "print(x.summary())\n"
   ]
  },
  {
   "cell_type": "code",
   "execution_count": 257,
   "metadata": {},
   "outputs": [
    {
     "data": {
      "text/plain": [
       "[<keras.engine.input_layer.InputLayer at 0x1c2ae0ccf8>,\n",
       " <keras.layers.convolutional.Conv2D at 0x1c29526588>,\n",
       " <keras.layers.convolutional.Conv2D at 0x1c29526780>,\n",
       " <keras.layers.convolutional.Conv2D at 0x1c2d465080>,\n",
       " <keras.layers.convolutional.Conv2D at 0x1c2d483c88>]"
      ]
     },
     "execution_count": 257,
     "metadata": {},
     "output_type": "execute_result"
    }
   ],
   "source": [
    "x.layers"
   ]
  },
  {
   "cell_type": "code",
   "execution_count": 258,
   "metadata": {},
   "outputs": [],
   "source": [
    "progress = ProgressCallback()"
   ]
  },
  {
   "cell_type": "code",
   "execution_count": 259,
   "metadata": {
    "scrolled": true
   },
   "outputs": [
    {
     "name": "stdout",
     "output_type": "stream",
     "text": [
      "Epoch 1/5\n",
      "200/200 [==============================] - 85s 425ms/step - loss: 0.5369 - val_loss: 0.5197\n",
      "Epoch 2/5\n",
      "200/200 [==============================] - 84s 421ms/step - loss: 0.5324 - val_loss: 0.5179\n",
      "Epoch 3/5\n",
      "200/200 [==============================] - 85s 424ms/step - loss: 0.5261 - val_loss: 0.5091\n",
      "Epoch 4/5\n",
      "200/200 [==============================] - 89s 445ms/step - loss: 0.5175 - val_loss: 0.4945\n",
      "Epoch 5/5\n",
      "200/200 [==============================] - 92s 460ms/step - loss: 0.5112 - val_loss: 0.4868\n"
     ]
    }
   ],
   "source": [
    "autoencoder = train_model(x)"
   ]
  },
  {
   "cell_type": "code",
   "execution_count": 226,
   "metadata": {},
   "outputs": [],
   "source": [
    "#!pip3 install jupyter-tensorboard\n",
    "#autoencoder = train_model(x)"
   ]
  },
  {
   "cell_type": "code",
   "execution_count": 227,
   "metadata": {},
   "outputs": [],
   "source": [
    "#!tensorboard --logdir=/tmp/tb\n",
    "#autoencoder = train_model(x) #Results from only 16 convolutions vs 64"
   ]
  },
  {
   "cell_type": "markdown",
   "metadata": {},
   "source": [
    "## Test the model"
   ]
  },
  {
   "cell_type": "code",
   "execution_count": 260,
   "metadata": {},
   "outputs": [],
   "source": [
    "# Import needed libraries\n",
    "import numpy as np\n",
    "from keras.models import Model\n",
    "from keras.datasets import mnist\n",
    "#import cv2\n",
    "from keras.models import load_model\n",
    "from sklearn.metrics import label_ranking_average_precision_score\n",
    "import time\n",
    "import matplotlib.pyplot as plt\n",
    "import matplotlib.image as mpimg\n",
    "\n"
   ]
  },
  {
   "cell_type": "code",
   "execution_count": 261,
   "metadata": {},
   "outputs": [
    {
     "name": "stdout",
     "output_type": "stream",
     "text": [
      "Loading model :\n",
      "Model loaded in:  1.488340139389038\n"
     ]
    }
   ],
   "source": [
    "# Load the model trained above\n",
    "print('Loading model :')\n",
    "t0 = time.time()\n",
    "autoencoder = load_model('autoencoder_pill4.h5')\n",
    "encoder = Model(inputs=autoencoder.input, outputs=autoencoder.get_layer('encoder').output)\n",
    "t1 = time.time()\n",
    "print('Model loaded in: ', t1-t0)\n",
    "\n",
    "scores = []"
   ]
  },
  {
   "cell_type": "code",
   "execution_count": 319,
   "metadata": {},
   "outputs": [
    {
     "name": "stdout",
     "output_type": "stream",
     "text": [
      "Found 96 images belonging to 1 classes.\n"
     ]
    }
   ],
   "source": [
    "# Load Test images to generate testing data\n",
    "test_datagen = ImageDataGenerator(rescale=1. / 255)\n",
    "\n",
    "test_generator = test_datagen.flow_from_directory(\n",
    "        'data_with_rotations/test',\n",
    "        target_size=(52, 100),\n",
    "        batch_size=32,\n",
    "        class_mode='input',\n",
    "        color_mode='grayscale',\n",
    "        shuffle=False)\n",
    "\n",
    "\n",
    "\n",
    "\n",
    "\n"
   ]
  },
  {
   "cell_type": "code",
   "execution_count": 368,
   "metadata": {},
   "outputs": [],
   "source": [
    "class all_directory_images:\n",
    "    def __init__(self, sourcedir='data_with_rotations/test', batch_size=16):\n",
    "        self.batch_size = batch_size\n",
    "        self.sourcedir = sourcedir\n",
    "        \n",
    "        self.test_datagen = ImageDataGenerator(rescale=1. / 255)\n",
    "        self.test_generator = self.test_datagen.flow_from_directory(\n",
    "                sourcedir,\n",
    "                target_size=(52, 100),\n",
    "                batch_size=self.batch_size,\n",
    "                class_mode='input',\n",
    "                color_mode='grayscale',\n",
    "                shuffle=False)\n",
    "        \n",
    "        self.n = self.test_generator.n\n",
    "        self.filenames = self.test_generator.filenames\n",
    "           \n",
    "    def __iter__(self):\n",
    "        return self\n",
    "\n",
    "    def __next__(self):\n",
    "        bi = self.test_generator.batch_index\n",
    "        bs = self.test_generator.batch_size\n",
    "        batch_file_names = test_generator.filenames[bi*bs:bi*bs+bs]\n",
    "        return (next(self.test_generator), batch_file_names)\n",
    "\n"
   ]
  },
  {
   "cell_type": "code",
   "execution_count": 369,
   "metadata": {},
   "outputs": [
    {
     "name": "stdout",
     "output_type": "stream",
     "text": [
      "Found 96 images belonging to 1 classes.\n"
     ]
    },
    {
     "data": {
      "text/plain": [
       "'data_with_rotations/test'"
      ]
     },
     "execution_count": 369,
     "metadata": {},
     "output_type": "execute_result"
    }
   ],
   "source": [
    "test_images=all_directory_images()\n",
    "test_images.sourcedir"
   ]
  },
  {
   "cell_type": "code",
   "execution_count": 372,
   "metadata": {},
   "outputs": [],
   "source": [
    "images, names = next(test_images)"
   ]
  },
  {
   "cell_type": "code",
   "execution_count": 373,
   "metadata": {},
   "outputs": [
    {
     "data": {
      "text/plain": [
       "['images/233.jpg',\n",
       " 'images/233_207.jpg',\n",
       " 'images/233_337.jpg',\n",
       " 'images/233_83.jpg',\n",
       " 'images/234.jpg',\n",
       " 'images/234_100.jpg',\n",
       " 'images/234_142.jpg',\n",
       " 'images/234_319.jpg',\n",
       " 'images/235.jpg',\n",
       " 'images/235_149.jpg',\n",
       " 'images/235_328.jpg',\n",
       " 'images/235_74.jpg',\n",
       " 'images/236.jpg',\n",
       " 'images/236_26.jpg',\n",
       " 'images/236_277.jpg',\n",
       " 'images/236_301.jpg']"
      ]
     },
     "execution_count": 373,
     "metadata": {},
     "output_type": "execute_result"
    }
   ],
   "source": [
    "names"
   ]
  },
  {
   "cell_type": "code",
   "execution_count": 324,
   "metadata": {},
   "outputs": [
    {
     "data": {
      "text/plain": [
       "['images/229.jpg',\n",
       " 'images/229_196.jpg',\n",
       " 'images/229_262.jpg',\n",
       " 'images/229_45.jpg',\n",
       " 'images/230.jpg',\n",
       " 'images/230_200.jpg',\n",
       " 'images/230_287.jpg',\n",
       " 'images/230_341.jpg',\n",
       " 'images/231.jpg',\n",
       " 'images/231_212.jpg',\n",
       " 'images/231_56.jpg',\n",
       " 'images/231_80.jpg',\n",
       " 'images/232.jpg',\n",
       " 'images/232_202.jpg',\n",
       " 'images/232_251.jpg',\n",
       " 'images/232_327.jpg',\n",
       " 'images/233.jpg',\n",
       " 'images/233_207.jpg',\n",
       " 'images/233_337.jpg',\n",
       " 'images/233_83.jpg',\n",
       " 'images/234.jpg',\n",
       " 'images/234_100.jpg',\n",
       " 'images/234_142.jpg',\n",
       " 'images/234_319.jpg',\n",
       " 'images/235.jpg',\n",
       " 'images/235_149.jpg',\n",
       " 'images/235_328.jpg',\n",
       " 'images/235_74.jpg',\n",
       " 'images/236.jpg',\n",
       " 'images/236_26.jpg',\n",
       " 'images/236_277.jpg',\n",
       " 'images/236_301.jpg',\n",
       " 'images/237.jpg',\n",
       " 'images/237_129.jpg',\n",
       " 'images/237_140.jpg',\n",
       " 'images/237_28.jpg',\n",
       " 'images/238.jpg',\n",
       " 'images/238_204.jpg',\n",
       " 'images/238_320.jpg',\n",
       " 'images/238_62.jpg',\n",
       " 'images/239.jpg',\n",
       " 'images/239_210.jpg',\n",
       " 'images/239_41.jpg',\n",
       " 'images/239_79.jpg',\n",
       " 'images/240.jpg',\n",
       " 'images/240_144.jpg',\n",
       " 'images/240_232.jpg',\n",
       " 'images/240_233.jpg',\n",
       " 'images/241.jpg',\n",
       " 'images/241_192.jpg',\n",
       " 'images/241_48.jpg',\n",
       " 'images/241_58.jpg',\n",
       " 'images/242.jpg',\n",
       " 'images/242_130.jpg',\n",
       " 'images/242_141.jpg',\n",
       " 'images/242_254.jpg',\n",
       " 'images/243.jpg',\n",
       " 'images/243_116.jpg',\n",
       " 'images/243_238.jpg',\n",
       " 'images/243_262.jpg',\n",
       " 'images/244.jpg',\n",
       " 'images/244_110.jpg',\n",
       " 'images/244_117.jpg',\n",
       " 'images/244_333.jpg',\n",
       " 'images/245.jpg',\n",
       " 'images/245_106.jpg',\n",
       " 'images/245_227.jpg',\n",
       " 'images/245_51.jpg',\n",
       " 'images/246.jpg',\n",
       " 'images/246_189.jpg',\n",
       " 'images/246_216.jpg',\n",
       " 'images/246_331.jpg',\n",
       " 'images/247.jpg',\n",
       " 'images/247_310.jpg',\n",
       " 'images/247_335.jpg',\n",
       " 'images/247_345.jpg',\n",
       " 'images/248.jpg',\n",
       " 'images/248_104.jpg',\n",
       " 'images/248_175.jpg',\n",
       " 'images/248_7.jpg',\n",
       " 'images/249.jpg',\n",
       " 'images/249_132.jpg',\n",
       " 'images/249_153.jpg',\n",
       " 'images/249_335.jpg',\n",
       " 'images/250.jpg',\n",
       " 'images/250_118.jpg',\n",
       " 'images/250_323.jpg',\n",
       " 'images/250_331.jpg',\n",
       " 'images/251.jpg',\n",
       " 'images/251_327.jpg',\n",
       " 'images/251_355.jpg',\n",
       " 'images/251_48.jpg',\n",
       " 'images/252.jpg',\n",
       " 'images/252_135.jpg',\n",
       " 'images/252_68.jpg',\n",
       " 'images/252_75.jpg']"
      ]
     },
     "execution_count": 324,
     "metadata": {},
     "output_type": "execute_result"
    }
   ],
   "source": [
    "test_generator.filenames"
   ]
  },
  {
   "cell_type": "code",
   "execution_count": 347,
   "metadata": {},
   "outputs": [
    {
     "name": "stdout",
     "output_type": "stream",
     "text": [
      "Found 96 images belonging to 1 classes.\n"
     ]
    },
    {
     "data": {
      "image/png": "[encoded data removed]",
      "text/plain": [
       "<Figure size 432x288 with 1 Axes>"
      ]
     },
     "metadata": {},
     "output_type": "display_data"
    },
    {
     "data": {
      "image/png": "[encoded data removed]",
      "text/plain": [
       "<Figure size 432x288 with 1 Axes>"
      ]
     },
     "metadata": {},
     "output_type": "display_data"
    }
   ],
   "source": [
    "# Let's just view a few input images and output images\n",
    "\n",
    "test_images=all_directory_images()\n",
    "\n",
    "next_batch = next(test_images)\n",
    "#next_batch = next(test_generator)\n",
    "images = next_batch[0]\n",
    "first_image=images[0]\n",
    "second_image=images[1]\n",
    "\n",
    "plt.imshow(get_image(first_image))\n",
    "plt.show()\n",
    "\n",
    "#plt.imshow(second_image)\n",
    "#plt.show()\n",
    "\n",
    "recreated_pill = autoencoder.predict(x=images,batch_size=32)\n",
    "\n",
    "plt.imshow(get_image(recreated_pill[0]))\n",
    "plt.show()\n",
    "\n",
    "#categories = next_batch[1]\n",
    "#print(categories[0])"
   ]
  },
  {
   "cell_type": "code",
   "execution_count": 270,
   "metadata": {},
   "outputs": [],
   "source": [
    "enc_model = Model(autoencoder.input, autoencoder.layers[2].output)\n"
   ]
  },
  {
   "cell_type": "code",
   "execution_count": 299,
   "metadata": {},
   "outputs": [
    {
     "name": "stdout",
     "output_type": "stream",
     "text": [
      "_________________________________________________________________\n",
      "Layer (type)                 Output Shape              Param #   \n",
      "=================================================================\n",
      "input_11 (InputLayer)        (None, 52, 100, 1)        0         \n",
      "_________________________________________________________________\n",
      "conv2d_7 (Conv2D)            (None, 52, 100, 64)       1664      \n",
      "_________________________________________________________________\n",
      "encoder (Conv2D)             (None, 52, 100, 16)       9232      \n",
      "=================================================================\n",
      "Total params: 10,896\n",
      "Trainable params: 10,896\n",
      "Non-trainable params: 0\n",
      "_________________________________________________________________\n"
     ]
    }
   ],
   "source": [
    "enc_model.summary()"
   ]
  },
  {
   "cell_type": "code",
   "execution_count": 280,
   "metadata": {},
   "outputs": [
    {
     "data": {
      "image/png": "[encoded data removed]",
      "text/plain": [
       "<Figure size 432x288 with 1 Axes>"
      ]
     },
     "metadata": {},
     "output_type": "display_data"
    }
   ],
   "source": [
    "# See what our output looks like\n",
    "# Let's just view a few input images and see results\n",
    "\n",
    "next_batch = next(test_generator)\n",
    "images = next_batch[0]\n",
    "first_image=images[0]\n",
    "second_image=images[1]\n",
    "\n",
    "plt.imshow(get_image(first_image))\n",
    "plt.show()\n",
    "\n",
    "#plt.imshow(second_image)\n",
    "#plt.show()\n",
    "\n",
    "embeddings = enc_model.predict(x=images,batch_size=32)\n",
    "\n"
   ]
  },
  {
   "cell_type": "code",
   "execution_count": 314,
   "metadata": {},
   "outputs": [
    {
     "data": {
      "text/plain": [
       "['images/229.jpg',\n",
       " 'images/229_196.jpg',\n",
       " 'images/229_262.jpg',\n",
       " 'images/229_45.jpg',\n",
       " 'images/230.jpg',\n",
       " 'images/230_200.jpg',\n",
       " 'images/230_287.jpg',\n",
       " 'images/230_341.jpg',\n",
       " 'images/231.jpg',\n",
       " 'images/231_212.jpg',\n",
       " 'images/231_56.jpg',\n",
       " 'images/231_80.jpg',\n",
       " 'images/232.jpg',\n",
       " 'images/232_202.jpg',\n",
       " 'images/232_251.jpg',\n",
       " 'images/232_327.jpg',\n",
       " 'images/233.jpg',\n",
       " 'images/233_207.jpg',\n",
       " 'images/233_337.jpg',\n",
       " 'images/233_83.jpg',\n",
       " 'images/234.jpg',\n",
       " 'images/234_100.jpg',\n",
       " 'images/234_142.jpg',\n",
       " 'images/234_319.jpg',\n",
       " 'images/235.jpg',\n",
       " 'images/235_149.jpg',\n",
       " 'images/235_328.jpg',\n",
       " 'images/235_74.jpg',\n",
       " 'images/236.jpg',\n",
       " 'images/236_26.jpg',\n",
       " 'images/236_277.jpg',\n",
       " 'images/236_301.jpg',\n",
       " 'images/237.jpg',\n",
       " 'images/237_129.jpg',\n",
       " 'images/237_140.jpg',\n",
       " 'images/237_28.jpg',\n",
       " 'images/238.jpg',\n",
       " 'images/238_204.jpg',\n",
       " 'images/238_320.jpg',\n",
       " 'images/238_62.jpg',\n",
       " 'images/239.jpg',\n",
       " 'images/239_210.jpg',\n",
       " 'images/239_41.jpg',\n",
       " 'images/239_79.jpg',\n",
       " 'images/240.jpg',\n",
       " 'images/240_144.jpg',\n",
       " 'images/240_232.jpg',\n",
       " 'images/240_233.jpg',\n",
       " 'images/241.jpg',\n",
       " 'images/241_192.jpg',\n",
       " 'images/241_48.jpg',\n",
       " 'images/241_58.jpg',\n",
       " 'images/242.jpg',\n",
       " 'images/242_130.jpg',\n",
       " 'images/242_141.jpg',\n",
       " 'images/242_254.jpg',\n",
       " 'images/243.jpg',\n",
       " 'images/243_116.jpg',\n",
       " 'images/243_238.jpg',\n",
       " 'images/243_262.jpg',\n",
       " 'images/244.jpg',\n",
       " 'images/244_110.jpg',\n",
       " 'images/244_117.jpg',\n",
       " 'images/244_333.jpg',\n",
       " 'images/245.jpg',\n",
       " 'images/245_106.jpg',\n",
       " 'images/245_227.jpg',\n",
       " 'images/245_51.jpg',\n",
       " 'images/246.jpg',\n",
       " 'images/246_189.jpg',\n",
       " 'images/246_216.jpg',\n",
       " 'images/246_331.jpg',\n",
       " 'images/247.jpg',\n",
       " 'images/247_310.jpg',\n",
       " 'images/247_335.jpg',\n",
       " 'images/247_345.jpg',\n",
       " 'images/248.jpg',\n",
       " 'images/248_104.jpg',\n",
       " 'images/248_175.jpg',\n",
       " 'images/248_7.jpg',\n",
       " 'images/249.jpg',\n",
       " 'images/249_132.jpg',\n",
       " 'images/249_153.jpg',\n",
       " 'images/249_335.jpg',\n",
       " 'images/250.jpg',\n",
       " 'images/250_118.jpg',\n",
       " 'images/250_323.jpg',\n",
       " 'images/250_331.jpg',\n",
       " 'images/251.jpg',\n",
       " 'images/251_327.jpg',\n",
       " 'images/251_355.jpg',\n",
       " 'images/251_48.jpg',\n",
       " 'images/252.jpg',\n",
       " 'images/252_135.jpg',\n",
       " 'images/252_68.jpg',\n",
       " 'images/252_75.jpg']"
      ]
     },
     "execution_count": 314,
     "metadata": {},
     "output_type": "execute_result"
    }
   ],
   "source": [
    "test_generator.filenames"
   ]
  },
  {
   "cell_type": "code",
   "execution_count": 281,
   "metadata": {},
   "outputs": [
    {
     "data": {
      "text/plain": [
       "(32, 52, 100, 16)"
      ]
     },
     "execution_count": 281,
     "metadata": {},
     "output_type": "execute_result"
    }
   ],
   "source": [
    "embeddings.shape\n"
   ]
  },
  {
   "cell_type": "code",
   "execution_count": 282,
   "metadata": {},
   "outputs": [
    {
     "data": {
      "text/plain": [
       "array([0.4489321 , 0.5870659 , 0.47597423, ..., 0.36802438, 0.33206958,\n",
       "       0.4621178 ], dtype=float32)"
      ]
     },
     "execution_count": 282,
     "metadata": {},
     "output_type": "execute_result"
    }
   ],
   "source": [
    "e = embeddings[0].flatten()\n",
    "e"
   ]
  },
  {
   "cell_type": "code",
   "execution_count": 293,
   "metadata": {},
   "outputs": [
    {
     "data": {
      "text/plain": [
       "'encoder'"
      ]
     },
     "execution_count": 293,
     "metadata": {},
     "output_type": "execute_result"
    }
   ],
   "source": [
    "enc_model.layers[-1].name"
   ]
  },
  {
   "cell_type": "code",
   "execution_count": 301,
   "metadata": {},
   "outputs": [],
   "source": [
    "\n",
    "x = enc_model.get_layer('encoder').output\n",
    "x = GlobalMaxPooling2D(name='flat')(x)\n",
    "new_model = Model(enc_model.input, x)\n",
    "\n",
    "\n",
    "#short_base = Model(base_model.get_layer('input_11').input, base_model.get_layer('avg_pool'))"
   ]
  },
  {
   "cell_type": "code",
   "execution_count": 307,
   "metadata": {},
   "outputs": [
    {
     "data": {
      "text/plain": [
       "array([[[[0.5411765 ],\n",
       "         [0.53333336],\n",
       "         [0.5372549 ],\n",
       "         ...,\n",
       "         [0.5372549 ],\n",
       "         [0.5372549 ],\n",
       "         [0.5372549 ]],\n",
       "\n",
       "        [[0.5294118 ],\n",
       "         [0.52156866],\n",
       "         [0.5137255 ],\n",
       "         ...,\n",
       "         [0.56078434],\n",
       "         [0.54901963],\n",
       "         [0.5411765 ]],\n",
       "\n",
       "        [[0.5803922 ],\n",
       "         [0.5803922 ],\n",
       "         [0.58431375],\n",
       "         ...,\n",
       "         [0.57254905],\n",
       "         [0.5764706 ],\n",
       "         [0.5764706 ]],\n",
       "\n",
       "        ...,\n",
       "\n",
       "        [[1.        ],\n",
       "         [1.        ],\n",
       "         [1.        ],\n",
       "         ...,\n",
       "         [1.        ],\n",
       "         [1.        ],\n",
       "         [1.        ]],\n",
       "\n",
       "        [[1.        ],\n",
       "         [1.        ],\n",
       "         [1.        ],\n",
       "         ...,\n",
       "         [1.        ],\n",
       "         [1.        ],\n",
       "         [1.        ]],\n",
       "\n",
       "        [[1.        ],\n",
       "         [1.        ],\n",
       "         [1.        ],\n",
       "         ...,\n",
       "         [1.        ],\n",
       "         [1.        ],\n",
       "         [1.        ]]],\n",
       "\n",
       "\n",
       "       [[[0.78823537],\n",
       "         [0.79215693],\n",
       "         [0.7960785 ],\n",
       "         ...,\n",
       "         [0.78823537],\n",
       "         [0.78823537],\n",
       "         [0.78823537]],\n",
       "\n",
       "        [[0.7607844 ],\n",
       "         [0.7686275 ],\n",
       "         [0.7686275 ],\n",
       "         ...,\n",
       "         [0.7607844 ],\n",
       "         [0.7607844 ],\n",
       "         [0.7607844 ]],\n",
       "\n",
       "        [[0.7725491 ],\n",
       "         [0.77647066],\n",
       "         [0.7803922 ],\n",
       "         ...,\n",
       "         [0.7725491 ],\n",
       "         [0.7725491 ],\n",
       "         [0.7725491 ]],\n",
       "\n",
       "        ...,\n",
       "\n",
       "        [[1.        ],\n",
       "         [1.        ],\n",
       "         [1.        ],\n",
       "         ...,\n",
       "         [1.        ],\n",
       "         [1.        ],\n",
       "         [1.        ]],\n",
       "\n",
       "        [[1.        ],\n",
       "         [1.        ],\n",
       "         [1.        ],\n",
       "         ...,\n",
       "         [1.        ],\n",
       "         [1.        ],\n",
       "         [1.        ]],\n",
       "\n",
       "        [[1.        ],\n",
       "         [1.        ],\n",
       "         [1.        ],\n",
       "         ...,\n",
       "         [1.        ],\n",
       "         [1.        ],\n",
       "         [1.        ]]],\n",
       "\n",
       "\n",
       "       [[[0.7803922 ],\n",
       "         [0.7803922 ],\n",
       "         [0.7803922 ],\n",
       "         ...,\n",
       "         [0.77647066],\n",
       "         [0.77647066],\n",
       "         [0.77647066]],\n",
       "\n",
       "        [[0.78823537],\n",
       "         [0.78823537],\n",
       "         [0.78823537],\n",
       "         ...,\n",
       "         [0.78823537],\n",
       "         [0.78823537],\n",
       "         [0.78823537]],\n",
       "\n",
       "        [[0.77647066],\n",
       "         [0.77647066],\n",
       "         [0.77647066],\n",
       "         ...,\n",
       "         [0.7803922 ],\n",
       "         [0.7803922 ],\n",
       "         [0.7803922 ]],\n",
       "\n",
       "        ...,\n",
       "\n",
       "        [[1.        ],\n",
       "         [1.        ],\n",
       "         [1.        ],\n",
       "         ...,\n",
       "         [1.        ],\n",
       "         [1.        ],\n",
       "         [1.        ]],\n",
       "\n",
       "        [[1.        ],\n",
       "         [1.        ],\n",
       "         [1.        ],\n",
       "         ...,\n",
       "         [1.        ],\n",
       "         [1.        ],\n",
       "         [1.        ]],\n",
       "\n",
       "        [[1.        ],\n",
       "         [1.        ],\n",
       "         [1.        ],\n",
       "         ...,\n",
       "         [1.        ],\n",
       "         [1.        ],\n",
       "         [1.        ]]],\n",
       "\n",
       "\n",
       "       ...,\n",
       "\n",
       "\n",
       "       [[[0.7960785 ],\n",
       "         [0.8000001 ],\n",
       "         [0.7960785 ],\n",
       "         ...,\n",
       "         [0.8000001 ],\n",
       "         [0.8000001 ],\n",
       "         [0.8000001 ]],\n",
       "\n",
       "        [[0.7803922 ],\n",
       "         [0.7803922 ],\n",
       "         [0.7803922 ],\n",
       "         ...,\n",
       "         [0.78823537],\n",
       "         [0.78823537],\n",
       "         [0.78823537]],\n",
       "\n",
       "        [[0.7803922 ],\n",
       "         [0.77647066],\n",
       "         [0.7803922 ],\n",
       "         ...,\n",
       "         [0.7803922 ],\n",
       "         [0.7803922 ],\n",
       "         [0.7803922 ]],\n",
       "\n",
       "        ...,\n",
       "\n",
       "        [[1.        ],\n",
       "         [1.        ],\n",
       "         [1.        ],\n",
       "         ...,\n",
       "         [1.        ],\n",
       "         [1.        ],\n",
       "         [1.        ]],\n",
       "\n",
       "        [[1.        ],\n",
       "         [1.        ],\n",
       "         [1.        ],\n",
       "         ...,\n",
       "         [1.        ],\n",
       "         [1.        ],\n",
       "         [1.        ]],\n",
       "\n",
       "        [[1.        ],\n",
       "         [1.        ],\n",
       "         [1.        ],\n",
       "         ...,\n",
       "         [1.        ],\n",
       "         [1.        ],\n",
       "         [1.        ]]],\n",
       "\n",
       "\n",
       "       [[[0.78823537],\n",
       "         [0.78823537],\n",
       "         [0.78823537],\n",
       "         ...,\n",
       "         [0.78823537],\n",
       "         [0.78823537],\n",
       "         [0.78823537]],\n",
       "\n",
       "        [[0.7686275 ],\n",
       "         [0.7686275 ],\n",
       "         [0.7686275 ],\n",
       "         ...,\n",
       "         [0.76470596],\n",
       "         [0.76470596],\n",
       "         [0.76470596]],\n",
       "\n",
       "        [[0.76470596],\n",
       "         [0.76470596],\n",
       "         [0.76470596],\n",
       "         ...,\n",
       "         [0.76470596],\n",
       "         [0.76470596],\n",
       "         [0.76470596]],\n",
       "\n",
       "        ...,\n",
       "\n",
       "        [[1.        ],\n",
       "         [1.        ],\n",
       "         [1.        ],\n",
       "         ...,\n",
       "         [1.        ],\n",
       "         [1.        ],\n",
       "         [1.        ]],\n",
       "\n",
       "        [[1.        ],\n",
       "         [1.        ],\n",
       "         [1.        ],\n",
       "         ...,\n",
       "         [1.        ],\n",
       "         [1.        ],\n",
       "         [1.        ]],\n",
       "\n",
       "        [[1.        ],\n",
       "         [1.        ],\n",
       "         [1.        ],\n",
       "         ...,\n",
       "         [1.        ],\n",
       "         [1.        ],\n",
       "         [1.        ]]],\n",
       "\n",
       "\n",
       "       [[[0.8000001 ],\n",
       "         [0.8000001 ],\n",
       "         [0.8000001 ],\n",
       "         ...,\n",
       "         [0.8000001 ],\n",
       "         [0.8000001 ],\n",
       "         [0.8000001 ]],\n",
       "\n",
       "        [[0.80392164],\n",
       "         [0.80392164],\n",
       "         [0.80392164],\n",
       "         ...,\n",
       "         [0.80392164],\n",
       "         [0.80392164],\n",
       "         [0.80392164]],\n",
       "\n",
       "        [[0.8078432 ],\n",
       "         [0.8078432 ],\n",
       "         [0.8078432 ],\n",
       "         ...,\n",
       "         [0.8078432 ],\n",
       "         [0.8078432 ],\n",
       "         [0.8078432 ]],\n",
       "\n",
       "        ...,\n",
       "\n",
       "        [[1.        ],\n",
       "         [1.        ],\n",
       "         [1.        ],\n",
       "         ...,\n",
       "         [1.        ],\n",
       "         [1.        ],\n",
       "         [1.        ]],\n",
       "\n",
       "        [[1.        ],\n",
       "         [1.        ],\n",
       "         [1.        ],\n",
       "         ...,\n",
       "         [1.        ],\n",
       "         [1.        ],\n",
       "         [1.        ]],\n",
       "\n",
       "        [[1.        ],\n",
       "         [1.        ],\n",
       "         [1.        ],\n",
       "         ...,\n",
       "         [1.        ],\n",
       "         [1.        ],\n",
       "         [1.        ]]]], dtype=float32)"
      ]
     },
     "execution_count": 307,
     "metadata": {},
     "output_type": "execute_result"
    }
   ],
   "source": []
  },
  {
   "cell_type": "code",
   "execution_count": 302,
   "metadata": {},
   "outputs": [
    {
     "data": {
      "image/png": "[encoded data removed]",
      "text/plain": [
       "<Figure size 432x288 with 1 Axes>"
      ]
     },
     "metadata": {},
     "output_type": "display_data"
    }
   ],
   "source": [
    "# See what our output looks like\n",
    "# Let's just view a few input images and see results\n",
    "\n",
    "next_batch = next(test_generator)\n",
    "images = next_batch[0]\n",
    "first_image=images[0]\n",
    "second_image=images[1]\n",
    "\n",
    "plt.imshow(get_image(first_image))\n",
    "plt.show()\n",
    "\n",
    "#plt.imshow(second_image)\n",
    "#plt.show()\n",
    "\n",
    "embeddings2 = new_model.predict(x=images,batch_size=32)\n",
    "\n",
    "\n"
   ]
  },
  {
   "cell_type": "code",
   "execution_count": 306,
   "metadata": {},
   "outputs": [
    {
     "data": {
      "text/plain": [
       "array([1.636523  , 0.7070728 , 1.6867381 , 1.3615891 , 2.0277815 ,\n",
       "       0.35471374, 0.30543947, 1.68271   , 1.635564  , 1.7098235 ,\n",
       "       0.29318053, 2.1143832 , 1.9540424 , 0.07577579, 0.39284876,\n",
       "       0.25835183], dtype=float32)"
      ]
     },
     "execution_count": 306,
     "metadata": {},
     "output_type": "execute_result"
    }
   ],
   "source": [
    "embeddings2[0]"
   ]
  },
  {
   "cell_type": "code",
   "execution_count": null,
   "metadata": {},
   "outputs": [],
   "source": []
  },
  {
   "cell_type": "code",
   "execution_count": null,
   "metadata": {},
   "outputs": [],
   "source": []
  },
  {
   "cell_type": "code",
   "execution_count": 273,
   "metadata": {},
   "outputs": [
    {
     "name": "stdout",
     "output_type": "stream",
     "text": [
      "0\n",
      "0\n"
     ]
    }
   ],
   "source": [
    "# For confusion matrix, you need two items, y_test and y_pred\n",
    "#     y_test is the known categorical values of the test set \n",
    "#     y_pred is the predicted categorical values of the test set \n",
    "\n",
    "# To get y_test we'll use the validation_generator, but let's grab all images\n",
    "#test_generator.batch_size = 751\n",
    "\n",
    "nb_batches_to_capture = 1 # batches * batch_size should be less than total number of items available, else repeats will happen\n",
    "\n",
    "y_true = []\n",
    "y_pred = []\n",
    "\n",
    "for index in range(nb_batches_to_capture):\n",
    "    next_batch = next(test_generator)\n",
    "    #images = next_batch[0]\n",
    "    #print(images[0])\n",
    "    categories = next_batch[1]\n",
    "    #print(categories[0])\n",
    "    #print(len(categories))\n",
    "    # To get y_pred, we actually need to predict the categories of the all_images set\n",
    "    #predicted_categories= model.predict_classes(x=images,batch_size=batch_size)\n",
    "    #print(len(predicted_categories))\n",
    "    #if len(categories) == len(predicted_categories):\n",
    "    #    y_true.extend(categories)\n",
    "    #    y_pred.extend(predicted_categories)\n",
    "    #else:\n",
    "    #    print(\"Mismatched actual and predicted - ignoring batch\")\n",
    "    \n",
    "print(len(y_true))\n",
    "print(len(y_pred))"
   ]
  },
  {
   "cell_type": "code",
   "execution_count": 191,
   "metadata": {},
   "outputs": [],
   "source": [
    "# Create methods for determining closest image\n",
    "def retrieve_closest_elements(test_code, test_label, learned_codes):\n",
    "    distances = []\n",
    "    for code in learned_codes:\n",
    "        distance = np.linalg.norm(code - test_code)\n",
    "        distances.append(distance)\n",
    "    nb_elements = learned_codes.shape[0]\n",
    "    distances = np.array(distances)\n",
    "    learned_code_index = np.arange(nb_elements)\n",
    "    labels = np.copy(y_train).astype('float32')\n",
    "    labels[labels != test_label] = -1\n",
    "    labels[labels == test_label] = 1\n",
    "    labels[labels == -1] = 0\n",
    "    distance_with_labels = np.stack((distances, labels, learned_code_index), axis=-1)\n",
    "    sorted_distance_with_labels = distance_with_labels[distance_with_labels[:, 0].argsort()]\n",
    "\n",
    "    sorted_distances = 28 - sorted_distance_with_labels[:, 0]\n",
    "    sorted_labels = sorted_distance_with_labels[:, 1]\n",
    "    sorted_indexes = sorted_distance_with_labels[:, 2]\n",
    "    return sorted_distances, sorted_labels, sorted_indexes\n",
    "\n",
    "\n",
    "def compute_average_precision_score(test_codes, test_labels, learned_codes, n_samples):\n",
    "    out_labels = []\n",
    "    out_distances = []\n",
    "    retrieved_elements_indexes = []\n",
    "    for i in range(len(test_codes)):\n",
    "        sorted_distances, sorted_labels, sorted_indexes = retrieve_closest_elements(test_codes[i], test_labels[i], learned_codes)\n",
    "        out_distances.append(sorted_distances[:n_samples])\n",
    "        out_labels.append(sorted_labels[:n_samples])\n",
    "        retrieved_elements_indexes.append(sorted_indexes[:n_samples])\n",
    "\n",
    "    out_labels = np.array(out_labels)\n",
    "    out_labels_file_name = 'computed_data/out_labels_{}'.format(n_samples)\n",
    "    np.save(out_labels_file_name, out_labels)\n",
    "\n",
    "    out_distances_file_name = 'computed_data/out_distances_{}'.format(n_samples)\n",
    "    out_distances = np.array(out_distances)\n",
    "    np.save(out_distances_file_name, out_distances)\n",
    "    score = label_ranking_average_precision_score(out_labels, out_distances)\n",
    "    scores.append(score)\n",
    "    return score\n",
    "\n",
    "\n",
    "def retrieve_closest_images(test_element, test_label, n_samples=10):\n",
    "    learned_codes = encoder.predict(x_train)\n",
    "    learned_codes = learned_codes.reshape(learned_codes.shape[0],\n",
    "                                          learned_codes.shape[1] * learned_codes.shape[2] * learned_codes.shape[3])\n",
    "\n",
    "    test_code = encoder.predict(np.array([test_element]))\n",
    "    test_code = test_code.reshape(test_code.shape[1] * test_code.shape[2] * test_code.shape[3])\n",
    "\n",
    "    distances = []\n",
    "\n",
    "    for code in learned_codes:\n",
    "        distance = np.linalg.norm(code - test_code)\n",
    "        distances.append(distance)\n",
    "    nb_elements = learned_codes.shape[0]\n",
    "    distances = np.array(distances)\n",
    "    learned_code_index = np.arange(nb_elements)\n",
    "    labels = np.copy(y_train).astype('float32')\n",
    "    labels[labels != test_label] = -1\n",
    "    labels[labels == test_label] = 1\n",
    "    labels[labels == -1] = 0\n",
    "    distance_with_labels = np.stack((distances, labels, learned_code_index), axis=-1)\n",
    "    sorted_distance_with_labels = distance_with_labels[distance_with_labels[:, 0].argsort()]\n",
    "\n",
    "    sorted_distances = 28 - sorted_distance_with_labels[:, 0]\n",
    "    sorted_labels = sorted_distance_with_labels[:, 1]\n",
    "    sorted_indexes = sorted_distance_with_labels[:, 2]\n",
    "    kept_indexes = sorted_indexes[:n_samples]\n",
    "\n",
    "    score = label_ranking_average_precision_score(np.array([sorted_labels[:n_samples]]), np.array([sorted_distances[:n_samples]]))\n",
    "\n",
    "    print(\"Average precision ranking score for tested element is {}\".format(score))\n",
    "\n",
    "    original_image = x_test[0]\n",
    "    cv2.imshow('original_image', original_image)\n",
    "    retrieved_images = x_train[int(kept_indexes[0]), :]\n",
    "    for i in range(1, n_samples):\n",
    "        retrieved_images = np.hstack((retrieved_images, x_train[int(kept_indexes[i]), :]))\n",
    "    cv2.imshow('Results', retrieved_images)\n",
    "    #cv2.waitKey(0)\n",
    "\n",
    "    cv2.imwrite('test_results/original_image.jpg', 255 * cv2.resize(original_image, (0,0), fx=3, fy=3))\n",
    "    cv2.imwrite('test_results/retrieved_results.jpg', 255 * cv2.resize(retrieved_images, (0,0), fx=2, fy=2))\n",
    "\n"
   ]
  },
  {
   "cell_type": "code",
   "execution_count": 192,
   "metadata": {},
   "outputs": [],
   "source": [
    "# Create methods to test the model\n",
    "def test_model(n_test_samples, n_train_samples):\n",
    "    learned_codes = encoder.predict(x_train)\n",
    "    learned_codes = learned_codes.reshape(learned_codes.shape[0], learned_codes.shape[1] * learned_codes.shape[2] * learned_codes.shape[3])\n",
    "    test_codes = encoder.predict(x_test)\n",
    "    test_codes = test_codes.reshape(test_codes.shape[0], test_codes.shape[1] * test_codes.shape[2] * test_codes.shape[3])\n",
    "    indexes = np.arange(len(y_test))\n",
    "    np.random.shuffle(indexes)\n",
    "    indexes = indexes[:n_test_samples]\n",
    "\n",
    "    print('Start computing score for {} train samples'.format(n_train_samples))\n",
    "    t1 = time.time()\n",
    "    score = compute_average_precision_score(test_codes[indexes], y_test[indexes], learned_codes, n_train_samples)\n",
    "    t2 = time.time()\n",
    "    print('Score computed in: ', t2-t1)\n",
    "    print('Model score:', score)\n",
    "\n",
    "\n",
    "def plot_denoised_images():\n",
    "    denoised_images = autoencoder.predict(x_test_noisy.reshape(x_test_noisy.shape[0], x_test_noisy.shape[1], x_test_noisy.shape[2], 1))\n",
    "    test_img = x_test_noisy[0]\n",
    "    resized_test_img = cv2.resize(test_img, (280, 280))\n",
    "    #cv2.imshow('input', resized_test_img)\n",
    "    #cv2.waitKey(0)\n",
    "    output = denoised_images[0]\n",
    "    resized_output = cv2.resize(output, (280, 280))\n",
    "    #cv2.imshow('output', resized_output)\n",
    "    #cv2.waitKey(0)\n",
    "    cv2.imwrite('test_results/noisy_image.jpg', 255 * resized_test_img)\n",
    "    cv2.imwrite('test_results/denoised_image.jpg', 255 * resized_output)\n"
   ]
  },
  {
   "cell_type": "code",
   "execution_count": 193,
   "metadata": {
    "scrolled": false
   },
   "outputs": [
    {
     "ename": "NameError",
     "evalue": "name 'x_train' is not defined",
     "output_type": "error",
     "traceback": [
      "\u001b[0;31m---------------------------------------------------------------------------\u001b[0m",
      "\u001b[0;31mNameError\u001b[0m                                 Traceback (most recent call last)",
      "\u001b[0;32m<ipython-input-193-1dee7e72a3b3>\u001b[0m in \u001b[0;36m<module>\u001b[0;34m()\u001b[0m\n\u001b[1;32m      8\u001b[0m \u001b[0;34m\u001b[0m\u001b[0m\n\u001b[1;32m      9\u001b[0m \u001b[0;32mfor\u001b[0m \u001b[0mn_train_sample\u001b[0m \u001b[0;32min\u001b[0m \u001b[0mn_train_samples\u001b[0m\u001b[0;34m:\u001b[0m\u001b[0;34m\u001b[0m\u001b[0m\n\u001b[0;32m---> 10\u001b[0;31m     \u001b[0mtest_model\u001b[0m\u001b[0;34m(\u001b[0m\u001b[0mn_test_samples\u001b[0m\u001b[0;34m,\u001b[0m \u001b[0mn_train_sample\u001b[0m\u001b[0;34m)\u001b[0m\u001b[0;34m\u001b[0m\u001b[0m\n\u001b[0m\u001b[1;32m     11\u001b[0m \u001b[0;34m\u001b[0m\u001b[0m\n\u001b[1;32m     12\u001b[0m \u001b[0;34m\u001b[0m\u001b[0m\n",
      "\u001b[0;32m<ipython-input-192-fe2232d72cf5>\u001b[0m in \u001b[0;36mtest_model\u001b[0;34m(n_test_samples, n_train_samples)\u001b[0m\n\u001b[1;32m      1\u001b[0m \u001b[0;31m# Create methods to test the model\u001b[0m\u001b[0;34m\u001b[0m\u001b[0;34m\u001b[0m\u001b[0m\n\u001b[1;32m      2\u001b[0m \u001b[0;32mdef\u001b[0m \u001b[0mtest_model\u001b[0m\u001b[0;34m(\u001b[0m\u001b[0mn_test_samples\u001b[0m\u001b[0;34m,\u001b[0m \u001b[0mn_train_samples\u001b[0m\u001b[0;34m)\u001b[0m\u001b[0;34m:\u001b[0m\u001b[0;34m\u001b[0m\u001b[0m\n\u001b[0;32m----> 3\u001b[0;31m     \u001b[0mlearned_codes\u001b[0m \u001b[0;34m=\u001b[0m \u001b[0mencoder\u001b[0m\u001b[0;34m.\u001b[0m\u001b[0mpredict\u001b[0m\u001b[0;34m(\u001b[0m\u001b[0mx_train\u001b[0m\u001b[0;34m)\u001b[0m\u001b[0;34m\u001b[0m\u001b[0m\n\u001b[0m\u001b[1;32m      4\u001b[0m     \u001b[0mlearned_codes\u001b[0m \u001b[0;34m=\u001b[0m \u001b[0mlearned_codes\u001b[0m\u001b[0;34m.\u001b[0m\u001b[0mreshape\u001b[0m\u001b[0;34m(\u001b[0m\u001b[0mlearned_codes\u001b[0m\u001b[0;34m.\u001b[0m\u001b[0mshape\u001b[0m\u001b[0;34m[\u001b[0m\u001b[0;36m0\u001b[0m\u001b[0;34m]\u001b[0m\u001b[0;34m,\u001b[0m \u001b[0mlearned_codes\u001b[0m\u001b[0;34m.\u001b[0m\u001b[0mshape\u001b[0m\u001b[0;34m[\u001b[0m\u001b[0;36m1\u001b[0m\u001b[0;34m]\u001b[0m \u001b[0;34m*\u001b[0m \u001b[0mlearned_codes\u001b[0m\u001b[0;34m.\u001b[0m\u001b[0mshape\u001b[0m\u001b[0;34m[\u001b[0m\u001b[0;36m2\u001b[0m\u001b[0;34m]\u001b[0m \u001b[0;34m*\u001b[0m \u001b[0mlearned_codes\u001b[0m\u001b[0;34m.\u001b[0m\u001b[0mshape\u001b[0m\u001b[0;34m[\u001b[0m\u001b[0;36m3\u001b[0m\u001b[0;34m]\u001b[0m\u001b[0;34m)\u001b[0m\u001b[0;34m\u001b[0m\u001b[0m\n\u001b[1;32m      5\u001b[0m     \u001b[0mtest_codes\u001b[0m \u001b[0;34m=\u001b[0m \u001b[0mencoder\u001b[0m\u001b[0;34m.\u001b[0m\u001b[0mpredict\u001b[0m\u001b[0;34m(\u001b[0m\u001b[0mx_test\u001b[0m\u001b[0;34m)\u001b[0m\u001b[0;34m\u001b[0m\u001b[0m\n",
      "\u001b[0;31mNameError\u001b[0m: name 'x_train' is not defined"
     ]
    }
   ],
   "source": [
    "\n",
    "# To test the whole model\n",
    "n_test_samples = 100\n",
    "#n_train_samples = [10, 50, 100, 200, 300, 400, 500, 750, 1000, 2000, 3000, 4000, 5000, 6000, 7000, 8000, 9000, 10000,\n",
    "#                   20000, 30000, 40000, 50000, 60000]\n",
    "\n",
    "n_train_samples = [10]\n",
    "\n",
    "for n_train_sample in n_train_samples:\n",
    "    test_model(n_test_samples, n_train_sample)\n",
    "\n",
    "\n",
    "\n",
    "\n",
    "\n",
    "\n"
   ]
  },
  {
   "cell_type": "code",
   "execution_count": null,
   "metadata": {
    "collapsed": true
   },
   "outputs": [],
   "source": [
    "# Save model\n",
    "np.save('computed_data/scores', np.array(scores))"
   ]
  },
  {
   "cell_type": "code",
   "execution_count": null,
   "metadata": {
    "collapsed": true
   },
   "outputs": [],
   "source": [
    "# To retrieve closest image\n",
    "retrieve_closest_images(x_test[0], y_test[0])\n"
   ]
  },
  {
   "cell_type": "code",
   "execution_count": null,
   "metadata": {
    "collapsed": true
   },
   "outputs": [],
   "source": [
    "\n",
    "# To plot a denoised image\n",
    "plot_denoised_images()"
   ]
  },
  {
   "cell_type": "code",
   "execution_count": null,
   "metadata": {
    "collapsed": true
   },
   "outputs": [],
   "source": [
    "print('hello')"
   ]
  },
  {
   "cell_type": "code",
   "execution_count": null,
   "metadata": {
    "collapsed": true
   },
   "outputs": [],
   "source": []
  }
 ],
 "metadata": {
  "kernelspec": {
   "display_name": "Python 3",
   "language": "python",
   "name": "python3"
  },
  "language_info": {
   "codemirror_mode": {
    "name": "ipython",
    "version": 3
   },
   "file_extension": ".py",
   "mimetype": "text/x-python",
   "name": "python",
   "nbconvert_exporter": "python",
   "pygments_lexer": "ipython3",
   "version": "3.6.5"
  }
 },
 "nbformat": 4,
 "nbformat_minor": 2
}
