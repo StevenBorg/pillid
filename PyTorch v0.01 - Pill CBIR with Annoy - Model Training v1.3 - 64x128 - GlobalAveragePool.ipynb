{
 "cells": [
  {
   "cell_type": "markdown",
   "metadata": {},
   "source": [
    "# Keras Autoencoder with Annoy for CBIR\n",
    "\n",
    "## Grayscale 64x128 pixels, 8x16x128 encoder convolutions, GlobalAverage to 128 dimensions\n",
    "\n",
    "#### Results: Grayscale, even at this resolution seems MUCH better than Black and White (pure through resize or not) or Edge Detection. Unexpected.  But MUCH better at grouping pills through rotations to one another. \n",
    "\n",
    "\n",
    "From Annoy: - see below:\n",
    "0 errors on the 12 image test set.\n",
    "\n",
    "With full 8100 set of rotated training images, able to map to the set of 180 unrotated images, with only 12 total errors on top 1 evalation."
   ]
  },
  {
   "cell_type": "code",
   "execution_count": 1,
   "metadata": {},
   "outputs": [
    {
     "name": "stderr",
     "output_type": "stream",
     "text": [
      "/anaconda3/lib/python3.6/site-packages/h5py/__init__.py:36: FutureWarning: Conversion of the second argument of issubdtype from `float` to `np.floating` is deprecated. In future, it will be treated as `np.float64 == np.dtype(float).type`.\n",
      "  from ._conv import register_converters as _register_converters\n",
      "Using TensorFlow backend.\n"
     ]
    },
    {
     "data": {
      "text/plain": [
       "'2.2.2'"
      ]
     },
     "execution_count": 1,
     "metadata": {},
     "output_type": "execute_result"
    }
   ],
   "source": [
    "import fastai\n",
    "keras.__version__"
   ]
  },
  {
   "cell_type": "code",
   "execution_count": 2,
   "metadata": {
    "scrolled": true
   },
   "outputs": [
    {
     "name": "stdout",
     "output_type": "stream",
     "text": [
      "[name: \"/device:CPU:0\"\n",
      "device_type: \"CPU\"\n",
      "memory_limit: 268435456\n",
      "locality {\n",
      "}\n",
      "incarnation: 5304298377249610496\n",
      "]\n"
     ]
    }
   ],
   "source": [
    "from tensorflow.python.client import device_lib\n",
    "print(device_lib.list_local_devices())"
   ]
  },
  {
   "cell_type": "code",
   "execution_count": 3,
   "metadata": {},
   "outputs": [
    {
     "data": {
      "text/plain": [
       "[_DeviceAttributes(/job:localhost/replica:0/task:0/device:CPU:0, CPU, 268435456)]"
      ]
     },
     "execution_count": 3,
     "metadata": {},
     "output_type": "execute_result"
    }
   ],
   "source": [
    "import tensorflow as tf\n",
    "sess = tf.Session(config=tf.ConfigProto(log_device_placement=True))\n",
    "sess.list_devices()"
   ]
  },
  {
   "cell_type": "code",
   "execution_count": 4,
   "metadata": {},
   "outputs": [],
   "source": [
    "from keras import backend as K\n",
    "#K.tensorflow_backend._get_available_gpus()"
   ]
  },
  {
   "cell_type": "markdown",
   "metadata": {},
   "source": [
    "# Train model"
   ]
  },
  {
   "cell_type": "markdown",
   "metadata": {},
   "source": [
    "## Training variables"
   ]
  },
  {
   "cell_type": "code",
   "execution_count": 75,
   "metadata": {},
   "outputs": [],
   "source": [
    "\n",
    "#target_image_size = (64,112)\n",
    "#target_image_size = (32,64)\n",
    "target_image_size = (64,128)\n",
    "\n",
    "color_mode='grayscale' # 'grayscale' or 'rgb'\n",
    "\n",
    "if color_mode=='grayscale':\n",
    "    target_image_size_3D = (target_image_size[0], target_image_size[1], 1)\n",
    "else: #then rgb\n",
    "    target_image_size_3D = (target_image_size[0], target_image_size[1], 3)\n",
    "\n",
    "batch_size_training = 32\n",
    "batch_size_validation = 32\n",
    "\n",
    "# Directories\n",
    "image_dir_base = 'data_with_rotations'\n",
    "image_dir_training = image_dir_base + '/train'\n",
    "image_dir_validation = image_dir_base + '/validate'\n",
    "image_dir_testing = image_dir_base + '/test'\n",
    "image_dir_samples = image_dir_testing\n",
    "\n",
    "# Training variables\n",
    "training_steps_per_epoch = 200\n",
    "training_number_of_epoch = 5\n",
    "validation_steps = 200\n",
    "training_early_stop_patience = 5\n",
    "\n",
    "# Model name to save\n",
    "model_name='autoencoder_v2.0_64x128-8x16x128'\n",
    "\n",
    "# Model name to load for Testing\n",
    "model_name_pretrained = model_name\n",
    "\n",
    "# Encoder model name\n",
    "model_name_encoder = model_name + '-encoder'"
   ]
  },
  {
   "cell_type": "code",
   "execution_count": 7,
   "metadata": {},
   "outputs": [],
   "source": [
    "# Import required items for training\n",
    "from keras.layers import Input, Conv2D, MaxPooling2D, UpSampling2D, ZeroPadding2D, Dense, GlobalMaxPooling2D, GlobalAveragePooling2D\n",
    "from keras.models import Model, load_model\n",
    "from keras.callbacks import TensorBoard, EarlyStopping\n",
    "from keras import callbacks\n",
    "from keras.datasets import mnist\n",
    "from keras.preprocessing.image import ImageDataGenerator\n",
    "import numpy as np\n",
    "\n",
    "\n",
    "from sklearn.metrics import label_ranking_average_precision_score\n",
    "import time\n",
    "\n",
    "import pandas as pd\n",
    "import matplotlib.pyplot as plt\n",
    "import matplotlib.image as mpimg\n"
   ]
  },
  {
   "cell_type": "markdown",
   "metadata": {},
   "source": [
    "## Convenience functions"
   ]
  },
  {
   "cell_type": "code",
   "execution_count": 8,
   "metadata": {},
   "outputs": [],
   "source": [
    "# Unfortunately, matplotlib, cv2, etc only print in greyscale \n",
    "#   when you have 3 color axes (RGB) all set to make the image look grey.\n",
    "#   But Keras loads greyscale images with only a single number (to optimize training, etc)\n",
    "#   So, we need to convert any Keras greyscale images to have 3 values\n",
    "\n",
    "def display_image(single_image):\n",
    "    #check to see if image is rgb\n",
    "    if (np.shape(single_image)[-1]==3):\n",
    "        plt.imshow(single_image)\n",
    "    if (np.shape(single_image)[-1]==1):\n",
    "        si = np.concatenate((single_image,single_image,single_image), axis=2)\n",
    "        plt.imshow(si)\n",
    "        \n",
    "def get_image(single_image):\n",
    "    #check to see if image is rgb\n",
    "    if (np.shape(single_image)[-1]==3):\n",
    "        return single_image\n",
    "    if (np.shape(single_image)[-1]==1):\n",
    "        si = np.concatenate((single_image,single_image,single_image), axis=2)\n",
    "        return si\n",
    "    "
   ]
  },
  {
   "cell_type": "markdown",
   "metadata": {},
   "source": [
    "## ImageDataGenerators "
   ]
  },
  {
   "cell_type": "code",
   "execution_count": 9,
   "metadata": {},
   "outputs": [
    {
     "name": "stdout",
     "output_type": "stream",
     "text": [
      "Found 722 images belonging to 1 classes.\n",
      "Found 191 images belonging to 1 classes.\n"
     ]
    }
   ],
   "source": [
    "# Created the Train and Validation image generators\n",
    "\n",
    "# Load the data (in that case MNIST)\n",
    "train_datagen = ImageDataGenerator(\n",
    "        #shear_range=0.05,\n",
    "        #zoom_range=0.01,\n",
    "        #rotation_range=5.00,\n",
    "        #height_shift_range=0.10,\n",
    "        #width_shift_range=0.10,\n",
    "        rescale=1. / 255,\n",
    "        horizontal_flip=False)\n",
    "\n",
    "validation_datagen = ImageDataGenerator(rescale=1. / 255)\n",
    "\n",
    "train_generator = train_datagen.flow_from_directory(\n",
    "        image_dir_training,\n",
    "        target_size=target_image_size,\n",
    "        batch_size=batch_size_training,\n",
    "        class_mode='input',\n",
    "        color_mode=color_mode)\n",
    "\n",
    "validation_generator = validation_datagen.flow_from_directory(\n",
    "        image_dir_validation,\n",
    "        target_size=target_image_size,\n",
    "        batch_size=batch_size_validation,\n",
    "        class_mode='input',\n",
    "        color_mode=color_mode)\n",
    "\n"
   ]
  },
  {
   "cell_type": "code",
   "execution_count": 10,
   "metadata": {},
   "outputs": [
    {
     "name": "stdout",
     "output_type": "stream",
     "text": [
      "Found 96 images belonging to 1 classes.\n"
     ]
    },
    {
     "data": {
      "image/png": "[encoded data removed]",
      "text/plain": [
       "<Figure size 432x288 with 1 Axes>"
      ]
     },
     "metadata": {},
     "output_type": "display_data"
    }
   ],
   "source": [
    "# Create an Sample image generator and get sample images to use throughout all the training for visualization\n",
    "\n",
    "\n",
    "# Create callback function to use later.\n",
    "sample_datagen = ImageDataGenerator(rescale=1. / 255)\n",
    "\n",
    "sample_generator = sample_datagen.flow_from_directory(\n",
    "        image_dir_samples,\n",
    "        target_size=target_image_size,\n",
    "        batch_size=16,\n",
    "        class_mode='input',\n",
    "        color_mode=color_mode)\n",
    "\n",
    "next_batch = next(sample_generator)\n",
    "sample_images = next_batch[0]\n",
    "test_image=sample_images[1]\n",
    "ti = test_image\n",
    "\n",
    "#\n",
    "display_image(test_image)\n"
   ]
  },
  {
   "cell_type": "markdown",
   "metadata": {},
   "source": [
    "## Define Model for Training - Architecture"
   ]
  },
  {
   "cell_type": "code",
   "execution_count": 11,
   "metadata": {},
   "outputs": [],
   "source": [
    "def define_model():\n",
    "    \n",
    "    \n",
    "    #Input\n",
    "    input_img = Input(shape=target_image_size_3D, name='input')  # adapt this if using `channels_first` image data format\n",
    "    \n",
    "     # Layer 10\n",
    "    x = Conv2D(16, (5, 5), activation='relu', padding='same', strides=(2,2))(input_img)\n",
    "#    x = MaxPooling2D((2, 2), padding='same')(x)\n",
    "    \n",
    "    # Layer 20\n",
    "    x = Conv2D(32, (3, 3), activation='relu', padding='same', strides=(2,2))(x)\n",
    "#    x = MaxPooling2D((2, 2), padding='same')(x)\n",
    "    \n",
    "#    # Added\n",
    "#    x = Conv2D(32, (3, 3), activation='relu', padding='same')(x)\n",
    "#    x = MaxPooling2D((2, 2), padding='same')(x)\n",
    "#    \n",
    "#    x = Conv2D(32, (3, 3), activation='relu', padding='same')(x)\n",
    "#    x = MaxPooling2D((2, 2), padding='same')(x)\n",
    "\n",
    "    # Layer 30\n",
    "\n",
    "#    x = Conv2D(32, (3, 3), activation='relu', padding='same')(x)\n",
    "#    x = MaxPooling2D((2, 2), padding='same')(x)\n",
    "    \n",
    "    # Layer 40\n",
    "    x = Conv2D(128, (3, 3), activation='relu', padding='same')(x)\n",
    "    encoded = MaxPooling2D((2, 2), padding='same', name='encoder')(x)\n",
    "\n",
    "    # at this point the representation is (4, 4, 8) i.e. 128-dimensional\n",
    "\n",
    "    # Uplayer 40\n",
    "    x = Conv2D(128, (3, 3), activation='relu', padding='same')(encoded)\n",
    "    x = UpSampling2D((2, 2))(x)\n",
    "    \n",
    "    # Uplayer 30\n",
    "#    x = Conv2D(32, (3, 3), activation='relu', padding='same')(x)\n",
    "#    x = UpSampling2D((2, 2))(x)\n",
    "\n",
    "\n",
    "#    #Added\n",
    "#    x = Conv2D(32, (3, 3), activation='relu', padding='same')(x)\n",
    "#    x = UpSampling2D((2, 2))(x)  \n",
    "#    \n",
    "#    x = Conv2D(32, (3, 3), activation='relu')(x)\n",
    "#    #x = Conv2D(8, (3, 3), activation='relu', padding='same')(x)\n",
    "#    x = UpSampling2D((2, 2))(x)  \n",
    "    \n",
    "    # Uplayer 20\n",
    "    x = Conv2D(32, (3, 3), activation='relu', padding='same')(x)\n",
    "    x = UpSampling2D((2, 2))(x)\n",
    "    \n",
    "    # Uplayer 10\n",
    "    x = Conv2D(16, (3, 3), activation='relu', padding='same')(x)\n",
    "    x = UpSampling2D((2, 2))(x)\n",
    "    \n",
    "    # Output\n",
    "    decoded = Conv2D(1, (3, 3), activation='sigmoid', padding='same', name='decoded')(x)\n",
    "\n",
    "\n",
    "    autoencoder = Model(input_img, outputs=decoded)\n",
    "    autoencoder.compile(optimizer='adadelta', loss='binary_crossentropy')\n",
    "\n",
    "    print(autoencoder.outputs)\n",
    "        \n",
    "    return autoencoder\n",
    "    "
   ]
  },
  {
   "cell_type": "code",
   "execution_count": 72,
   "metadata": {},
   "outputs": [],
   "source": [
    "# Create callback to write sample images to disk\n",
    "class ProgressCallback(callbacks.Callback):\n",
    "    \n",
    "    def __init__(self, sample_image):\n",
    "        self.sample_image = sample_image\n",
    "        self.image4d = self.sample_image[None,:] # predict needs a batch of images (shape=4). This adds a dimension  \n",
    "        \n",
    "    def on_epoch_end(self, epoch, logs={}):\n",
    "        \n",
    "        processed_images = self.model.predict(x=[self.image4d],batch_size=1)\n",
    "         \n",
    "        # plot the image and save it\n",
    "        f = plt.figure()\n",
    "        f.add_subplot(1, 2, 1)  # this line outputs images side-by-side\n",
    "        sim = get_image(self.sample_image)\n",
    "        plt.imshow(sim)\n",
    "        f.add_subplot(1, 2, 2)  # this line outputs images side-by-side\n",
    "        pim = get_image(processed_images[0])\n",
    "        plt.imshow(pim)\n",
    "        plt.suptitle('Epoch ' + str(epoch))\n",
    "        filename = 'epoch-' + str(epoch) + '.png'\n",
    "        plt.savefig(filename)\n",
    "        plt.close()\n",
    "        #plt.show()\n"
   ]
  },
  {
   "cell_type": "code",
   "execution_count": 13,
   "metadata": {},
   "outputs": [],
   "source": [
    "# Train the model\n",
    "def train_model(model_to_train):\n",
    "    progress = ProgressCallback(sample_image=sample_images[0])\n",
    "    early_stop = EarlyStopping(monitor='val_loss',\n",
    "                              min_delta=0,\n",
    "                              patience=training_early_stop_patience,\n",
    "                              verbose=0, mode='auto')\n",
    "    model_to_train.fit_generator(\n",
    "        train_generator,\n",
    "        steps_per_epoch=training_steps_per_epoch,\n",
    "        epochs=training_number_of_epoch,\n",
    "        validation_data=validation_generator,\n",
    "        validation_steps=validation_steps,\n",
    "        callbacks=[TensorBoard(log_dir='/tmp/tb', histogram_freq=0, write_graph=False),progress,early_stop])\n",
    "    \n",
    "    model_to_train.save(model_name + '.h5')\n",
    "    \n",
    "    return model_to_train"
   ]
  },
  {
   "cell_type": "code",
   "execution_count": 14,
   "metadata": {
    "scrolled": true
   },
   "outputs": [
    {
     "name": "stdout",
     "output_type": "stream",
     "text": [
      "[<tf.Tensor 'decoded/Sigmoid:0' shape=(?, 64, 128, 1) dtype=float32>]\n"
     ]
    }
   ],
   "source": [
    "# Train the model\n",
    "x = define_model()"
   ]
  },
  {
   "cell_type": "code",
   "execution_count": 73,
   "metadata": {},
   "outputs": [
    {
     "name": "stdout",
     "output_type": "stream",
     "text": [
      "_________________________________________________________________\n",
      "Layer (type)                 Output Shape              Param #   \n",
      "=================================================================\n",
      "input (InputLayer)           (None, 64, 128, 1)        0         \n",
      "_________________________________________________________________\n",
      "conv2d_1 (Conv2D)            (None, 32, 64, 16)        416       \n",
      "_________________________________________________________________\n",
      "conv2d_2 (Conv2D)            (None, 16, 32, 32)        4640      \n",
      "_________________________________________________________________\n",
      "conv2d_3 (Conv2D)            (None, 16, 32, 128)       36992     \n",
      "_________________________________________________________________\n",
      "encoder (MaxPooling2D)       (None, 8, 16, 128)        0         \n",
      "_________________________________________________________________\n",
      "conv2d_4 (Conv2D)            (None, 8, 16, 128)        147584    \n",
      "_________________________________________________________________\n",
      "up_sampling2d_1 (UpSampling2 (None, 16, 32, 128)       0         \n",
      "_________________________________________________________________\n",
      "conv2d_5 (Conv2D)            (None, 16, 32, 32)        36896     \n",
      "_________________________________________________________________\n",
      "up_sampling2d_2 (UpSampling2 (None, 32, 64, 32)        0         \n",
      "_________________________________________________________________\n",
      "conv2d_6 (Conv2D)            (None, 32, 64, 16)        4624      \n",
      "_________________________________________________________________\n",
      "up_sampling2d_3 (UpSampling2 (None, 64, 128, 16)       0         \n",
      "_________________________________________________________________\n",
      "decoded (Conv2D)             (None, 64, 128, 1)        145       \n",
      "=================================================================\n",
      "Total params: 231,297\n",
      "Trainable params: 231,297\n",
      "Non-trainable params: 0\n",
      "_________________________________________________________________\n",
      "None\n"
     ]
    }
   ],
   "source": [
    "print(x.summary())\n"
   ]
  },
  {
   "cell_type": "code",
   "execution_count": 16,
   "metadata": {},
   "outputs": [
    {
     "data": {
      "text/plain": [
       "<tf.Tensor 'encoder/MaxPool:0' shape=(?, 8, 16, 128) dtype=float32>"
      ]
     },
     "execution_count": 16,
     "metadata": {},
     "output_type": "execute_result"
    }
   ],
   "source": [
    "# Show encoder output size (before global pooling)\n",
    "e = x.get_layer('encoder')\n",
    "e.output"
   ]
  },
  {
   "cell_type": "code",
   "execution_count": 76,
   "metadata": {
    "scrolled": true
   },
   "outputs": [
    {
     "name": "stdout",
     "output_type": "stream",
     "text": [
      "Epoch 1/5\n",
      "200/200 [==============================] - 85s 427ms/step - loss: 0.4880 - val_loss: 0.4639\n",
      "Epoch 2/5\n",
      "200/200 [==============================] - 86s 430ms/step - loss: 0.4881 - val_loss: 0.4638\n",
      "Epoch 3/5\n",
      "200/200 [==============================] - 85s 423ms/step - loss: 0.4879 - val_loss: 0.4640\n",
      "Epoch 4/5\n",
      "200/200 [==============================] - 84s 420ms/step - loss: 0.4879 - val_loss: 0.4639\n",
      "Epoch 5/5\n",
      "200/200 [==============================] - 83s 415ms/step - loss: 0.4880 - val_loss: 0.4638\n"
     ]
    }
   ],
   "source": [
    "#autoencoder = x\n",
    "autoencoder = train_model(autoencoder)"
   ]
  },
  {
   "cell_type": "code",
   "execution_count": 77,
   "metadata": {},
   "outputs": [],
   "source": [
    "#!pip3 install jupyter-tensorboard\n",
    "for i in range(2):\n",
    "    pass\n",
    "    #autoencoder = train_model(x)"
   ]
  },
  {
   "cell_type": "code",
   "execution_count": 78,
   "metadata": {},
   "outputs": [],
   "source": [
    "for i in range(50):\n",
    "    #autoencoder = train_model(x)\n",
    "    pass"
   ]
  },
  {
   "cell_type": "code",
   "execution_count": 79,
   "metadata": {},
   "outputs": [],
   "source": [
    "# If all looks good, save the model\n",
    "autoencoder.save(model_name_pretrained + '.h5')"
   ]
  },
  {
   "cell_type": "markdown",
   "metadata": {},
   "source": [
    "# Test the model"
   ]
  },
  {
   "cell_type": "code",
   "execution_count": 23,
   "metadata": {},
   "outputs": [],
   "source": [
    "# Import needed libraries\n",
    "import numpy as np\n",
    "from keras.models import Model\n",
    "from keras.datasets import mnist\n",
    "#import cv2\n",
    "from keras.models import load_model\n",
    "from sklearn.metrics import label_ranking_average_precision_score\n",
    "import time\n",
    "import matplotlib.pyplot as plt\n",
    "import matplotlib.image as mpimg\n",
    "from keras.preprocessing.image import ImageDataGenerator\n",
    "\n",
    "\n",
    "\n",
    "\n"
   ]
  },
  {
   "cell_type": "code",
   "execution_count": 24,
   "metadata": {},
   "outputs": [
    {
     "name": "stdout",
     "output_type": "stream",
     "text": [
      "Loading model :\n",
      "Model loaded in:  0.9467687606811523\n"
     ]
    }
   ],
   "source": [
    "# Load the model trained above\n",
    "print('Loading model :')\n",
    "t0 = time.time()\n",
    "autoencoder = load_model(model_name_pretrained + '.h5')\n",
    "encoder = Model(inputs=autoencoder.input, outputs=autoencoder.get_layer('encoder').output)\n",
    "t1 = time.time()\n",
    "print('Model loaded in: ', t1-t0)\n"
   ]
  },
  {
   "cell_type": "code",
   "execution_count": null,
   "metadata": {},
   "outputs": [],
   "source": []
  },
  {
   "cell_type": "markdown",
   "metadata": {},
   "source": [
    "# Convenience methods"
   ]
  },
  {
   "cell_type": "code",
   "execution_count": 25,
   "metadata": {},
   "outputs": [],
   "source": [
    "class all_directory_images_generator:\n",
    "    def __init__(self, sourcedir='data_with_rotations/test', batch_size=16, color_mode='grayscale', target_image_size=(100,100)):\n",
    "        self.batch_size = batch_size\n",
    "        self.sourcedir = sourcedir\n",
    "        self.color_mode = color_mode\n",
    "        self.target_image_size = target_image_size\n",
    "        \n",
    "        self.test_datagen = ImageDataGenerator(rescale=1. / 255)\n",
    "        self.test_generator = self.test_datagen.flow_from_directory(\n",
    "                sourcedir,\n",
    "                target_size=target_image_size,\n",
    "                batch_size=self.batch_size,\n",
    "                class_mode='input',\n",
    "                color_mode=self.color_mode,\n",
    "                shuffle=False)\n",
    "        \n",
    "        self.n = self.test_generator.n\n",
    "        self.filenames = self.test_generator.filenames   \n",
    "        self.current_batch = 0\n",
    "        self.max_batch = int(self.n / self.batch_size)\n",
    "        \n",
    "    def __iter__(self):\n",
    "        return self\n",
    "\n",
    "    def __next__(self):\n",
    "        bi = self.test_generator.batch_index\n",
    "        bs = self.test_generator.batch_size\n",
    "        batch_file_names = self.test_generator.filenames[bi*bs:bi*bs+bs]\n",
    "        return (next(self.test_generator), batch_file_names)\n",
    "\n"
   ]
  },
  {
   "cell_type": "markdown",
   "metadata": {},
   "source": [
    "# Create encoder model"
   ]
  },
  {
   "cell_type": "code",
   "execution_count": 26,
   "metadata": {},
   "outputs": [],
   "source": [
    "# Create a new model from the autoencoder, only up to the embedding layer\n",
    "enc_model = Model(autoencoder.input, autoencoder.get_layer('encoder').output)\n",
    "\n",
    "x1 = enc_model.get_layer('encoder').output\n",
    "#x1 = GlobalMaxPooling2D(name='flat')(x1)\n",
    "x1 = GlobalAveragePooling2D(name='flat')(x1)\n",
    "encoder = Model(enc_model.input, x1)\n",
    "\n",
    "# save the model to disk for reuse later\n",
    "encoder.save(model_name_encoder + '.h5')\n",
    "#encoder.save('encoder-32x64-4x8x128-AvgPool-prod.h5')\n"
   ]
  },
  {
   "cell_type": "code",
   "execution_count": 63,
   "metadata": {},
   "outputs": [
    {
     "name": "stdout",
     "output_type": "stream",
     "text": [
      "Found 8100 images belonging to 1 classes.\n"
     ]
    }
   ],
   "source": [
    "# Create dictionary with all filenames (keys) and predicted encodings (values)\n",
    "\n",
    "image_dir_testing = 'data_with_many_rotations/train'\n",
    "#image_dir_testing = 'data_projected/train'\n",
    "#image_dir_testing = 'data_with_many_rotations/test'\n",
    "\n",
    "image_encoding_dict = {}\n",
    "\n",
    "test_images = all_directory_images_generator(batch_size=45, target_image_size=target_image_size, sourcedir=image_dir_testing)\n",
    "bs = test_images.batch_size\n",
    "\n",
    "for i in range(test_images.max_batch):\n",
    "    images_both_x_and_y, names = next(test_images)\n",
    "    images = images_both_x_and_y[0]\n",
    "    encodings = encoder.predict(images,batch_size=bs)\n",
    "    for j in range(bs):\n",
    "        image_encoding_dict[names[j]]=encodings[j]\n",
    "        \n",
    "\n",
    "\n",
    "# Create dictionary with index integers (keys) and filenames (values)\n",
    "#   This is needed later for Annoy, since it uses integers as item keys, and we have to map back to a filename\n",
    "image_filename_dict = {}\n",
    "\n",
    "i = 0\n",
    "for key, value in image_encoding_dict.items():\n",
    "    image_filename_dict[i]=key\n",
    "    i = i+1\n",
    "\n"
   ]
  },
  {
   "cell_type": "code",
   "execution_count": 64,
   "metadata": {},
   "outputs": [
    {
     "data": {
      "image/png": "[encoded data removed]",
      "text/plain": [
       "<Figure size 432x288 with 1 Axes>"
      ]
     },
     "metadata": {},
     "output_type": "display_data"
    },
    {
     "data": {
      "image/png": "[encoded data removed]",
      "text/plain": [
       "<Figure size 432x288 with 1 Axes>"
      ]
     },
     "metadata": {},
     "output_type": "display_data"
    },
    {
     "name": "stdout",
     "output_type": "stream",
     "text": [
      "images/100_0.jpg\n"
     ]
    }
   ],
   "source": [
    "# Let's just view a few input images and output images from the autoencoder\n",
    "#   This includes the decoder part of the autoencoder, so we'll still see an image\n",
    "\n",
    "next_batch, next_filenames = next(test_images) # Use the test_images defined above\n",
    "#next_batch = next(test_generator)\n",
    "images = next_batch[0]\n",
    "first_image=images[0]\n",
    "second_image=images[1]\n",
    "\n",
    "plt.imshow(get_image(first_image))\n",
    "plt.show()\n",
    "\n",
    "#plt.imshow(second_image)\n",
    "#plt.show()\n",
    "\n",
    "recreated_pill = autoencoder.predict(x=images,batch_size=32)\n",
    "\n",
    "plt.imshow(get_image(recreated_pill[0]))\n",
    "plt.show()\n",
    "print(next_filenames[0])\n",
    "\n"
   ]
  },
  {
   "cell_type": "markdown",
   "metadata": {},
   "source": [
    "# Get a feel for the outputs"
   ]
  },
  {
   "cell_type": "code",
   "execution_count": 28,
   "metadata": {},
   "outputs": [],
   "source": [
    "# Load a dataframe from the dictionary\n",
    "import pandas as pd\n",
    "df = pd.DataFrame.from_dict(image_encoding_dict, orient='index')\n",
    "\n",
    "#df['filename'] = df.index\n",
    "#df['image']= df['filename'].apply(lambda x: x.split('/')[-1])\n",
    "#HOLY COW!  All of these are so close together. :-(  Can't differentiate one from another easily - Deeper network help?\n",
    "#df.to_csv('96_images_32x64_AvgPool_4x8.csv')\n",
    "\n",
    "#df"
   ]
  },
  {
   "cell_type": "code",
   "execution_count": 29,
   "metadata": {},
   "outputs": [
    {
     "data": {
      "text/html": [
       "<div>\n",
       "<style scoped>\n",
       "    .dataframe tbody tr th:only-of-type {\n",
       "        vertical-align: middle;\n",
       "    }\n",
       "\n",
       "    .dataframe tbody tr th {\n",
       "        vertical-align: top;\n",
       "    }\n",
       "\n",
       "    .dataframe thead th {\n",
       "        text-align: right;\n",
       "    }\n",
       "</style>\n",
       "<table border=\"1\" class=\"dataframe\">\n",
       "  <thead>\n",
       "    <tr style=\"text-align: right;\">\n",
       "      <th></th>\n",
       "      <th>0</th>\n",
       "      <th>1</th>\n",
       "      <th>2</th>\n",
       "      <th>3</th>\n",
       "      <th>4</th>\n",
       "      <th>5</th>\n",
       "      <th>6</th>\n",
       "      <th>7</th>\n",
       "      <th>8</th>\n",
       "      <th>9</th>\n",
       "      <th>...</th>\n",
       "      <th>118</th>\n",
       "      <th>119</th>\n",
       "      <th>120</th>\n",
       "      <th>121</th>\n",
       "      <th>122</th>\n",
       "      <th>123</th>\n",
       "      <th>124</th>\n",
       "      <th>125</th>\n",
       "      <th>126</th>\n",
       "      <th>127</th>\n",
       "    </tr>\n",
       "  </thead>\n",
       "  <tbody>\n",
       "    <tr>\n",
       "      <th>count</th>\n",
       "      <td>1080.000000</td>\n",
       "      <td>1080.000000</td>\n",
       "      <td>1080.000000</td>\n",
       "      <td>1080.000000</td>\n",
       "      <td>1080.000000</td>\n",
       "      <td>1080.000000</td>\n",
       "      <td>1080.000000</td>\n",
       "      <td>1080.000000</td>\n",
       "      <td>1080.000000</td>\n",
       "      <td>1080.000000</td>\n",
       "      <td>...</td>\n",
       "      <td>1080.000000</td>\n",
       "      <td>1080.000000</td>\n",
       "      <td>1080.000000</td>\n",
       "      <td>1080.000000</td>\n",
       "      <td>1080.000000</td>\n",
       "      <td>1080.000000</td>\n",
       "      <td>1080.000000</td>\n",
       "      <td>1080.000000</td>\n",
       "      <td>1080.000000</td>\n",
       "      <td>1080.000000</td>\n",
       "    </tr>\n",
       "    <tr>\n",
       "      <th>mean</th>\n",
       "      <td>0.110669</td>\n",
       "      <td>0.157751</td>\n",
       "      <td>0.022162</td>\n",
       "      <td>0.000018</td>\n",
       "      <td>0.118882</td>\n",
       "      <td>0.117522</td>\n",
       "      <td>0.173365</td>\n",
       "      <td>0.095322</td>\n",
       "      <td>0.029871</td>\n",
       "      <td>0.075235</td>\n",
       "      <td>...</td>\n",
       "      <td>0.125714</td>\n",
       "      <td>0.076557</td>\n",
       "      <td>0.092160</td>\n",
       "      <td>0.069770</td>\n",
       "      <td>0.025052</td>\n",
       "      <td>0.272707</td>\n",
       "      <td>0.095370</td>\n",
       "      <td>0.000161</td>\n",
       "      <td>0.037957</td>\n",
       "      <td>0.056826</td>\n",
       "    </tr>\n",
       "    <tr>\n",
       "      <th>std</th>\n",
       "      <td>0.007941</td>\n",
       "      <td>0.013088</td>\n",
       "      <td>0.003643</td>\n",
       "      <td>0.000056</td>\n",
       "      <td>0.004518</td>\n",
       "      <td>0.006497</td>\n",
       "      <td>0.007722</td>\n",
       "      <td>0.005343</td>\n",
       "      <td>0.003470</td>\n",
       "      <td>0.006404</td>\n",
       "      <td>...</td>\n",
       "      <td>0.009534</td>\n",
       "      <td>0.005236</td>\n",
       "      <td>0.009065</td>\n",
       "      <td>0.006691</td>\n",
       "      <td>0.004126</td>\n",
       "      <td>0.009422</td>\n",
       "      <td>0.006811</td>\n",
       "      <td>0.000373</td>\n",
       "      <td>0.004305</td>\n",
       "      <td>0.004749</td>\n",
       "    </tr>\n",
       "    <tr>\n",
       "      <th>min</th>\n",
       "      <td>0.092274</td>\n",
       "      <td>0.121793</td>\n",
       "      <td>0.014398</td>\n",
       "      <td>0.000000</td>\n",
       "      <td>0.107826</td>\n",
       "      <td>0.097776</td>\n",
       "      <td>0.154215</td>\n",
       "      <td>0.082896</td>\n",
       "      <td>0.021457</td>\n",
       "      <td>0.058513</td>\n",
       "      <td>...</td>\n",
       "      <td>0.105092</td>\n",
       "      <td>0.063471</td>\n",
       "      <td>0.071516</td>\n",
       "      <td>0.058891</td>\n",
       "      <td>0.015410</td>\n",
       "      <td>0.246458</td>\n",
       "      <td>0.073433</td>\n",
       "      <td>0.000000</td>\n",
       "      <td>0.027329</td>\n",
       "      <td>0.042998</td>\n",
       "    </tr>\n",
       "    <tr>\n",
       "      <th>25%</th>\n",
       "      <td>0.105961</td>\n",
       "      <td>0.150873</td>\n",
       "      <td>0.019838</td>\n",
       "      <td>0.000000</td>\n",
       "      <td>0.116109</td>\n",
       "      <td>0.114409</td>\n",
       "      <td>0.168237</td>\n",
       "      <td>0.091846</td>\n",
       "      <td>0.027458</td>\n",
       "      <td>0.070633</td>\n",
       "      <td>...</td>\n",
       "      <td>0.118039</td>\n",
       "      <td>0.073063</td>\n",
       "      <td>0.084151</td>\n",
       "      <td>0.064315</td>\n",
       "      <td>0.023055</td>\n",
       "      <td>0.266337</td>\n",
       "      <td>0.090765</td>\n",
       "      <td>0.000000</td>\n",
       "      <td>0.034912</td>\n",
       "      <td>0.053503</td>\n",
       "    </tr>\n",
       "    <tr>\n",
       "      <th>50%</th>\n",
       "      <td>0.109647</td>\n",
       "      <td>0.159198</td>\n",
       "      <td>0.021881</td>\n",
       "      <td>0.000000</td>\n",
       "      <td>0.118558</td>\n",
       "      <td>0.117693</td>\n",
       "      <td>0.173249</td>\n",
       "      <td>0.094804</td>\n",
       "      <td>0.029332</td>\n",
       "      <td>0.074442</td>\n",
       "      <td>...</td>\n",
       "      <td>0.125099</td>\n",
       "      <td>0.076395</td>\n",
       "      <td>0.092830</td>\n",
       "      <td>0.069414</td>\n",
       "      <td>0.025634</td>\n",
       "      <td>0.273915</td>\n",
       "      <td>0.096735</td>\n",
       "      <td>0.000000</td>\n",
       "      <td>0.037818</td>\n",
       "      <td>0.056663</td>\n",
       "    </tr>\n",
       "    <tr>\n",
       "      <th>75%</th>\n",
       "      <td>0.118179</td>\n",
       "      <td>0.164532</td>\n",
       "      <td>0.025445</td>\n",
       "      <td>0.000000</td>\n",
       "      <td>0.121014</td>\n",
       "      <td>0.121698</td>\n",
       "      <td>0.179442</td>\n",
       "      <td>0.098992</td>\n",
       "      <td>0.032405</td>\n",
       "      <td>0.080215</td>\n",
       "      <td>...</td>\n",
       "      <td>0.133039</td>\n",
       "      <td>0.081132</td>\n",
       "      <td>0.099956</td>\n",
       "      <td>0.073881</td>\n",
       "      <td>0.027934</td>\n",
       "      <td>0.279368</td>\n",
       "      <td>0.100373</td>\n",
       "      <td>0.000105</td>\n",
       "      <td>0.040953</td>\n",
       "      <td>0.060350</td>\n",
       "    </tr>\n",
       "    <tr>\n",
       "      <th>max</th>\n",
       "      <td>0.127484</td>\n",
       "      <td>0.189541</td>\n",
       "      <td>0.031535</td>\n",
       "      <td>0.000542</td>\n",
       "      <td>0.131702</td>\n",
       "      <td>0.135334</td>\n",
       "      <td>0.192607</td>\n",
       "      <td>0.108652</td>\n",
       "      <td>0.039240</td>\n",
       "      <td>0.087202</td>\n",
       "      <td>...</td>\n",
       "      <td>0.145627</td>\n",
       "      <td>0.087250</td>\n",
       "      <td>0.108553</td>\n",
       "      <td>0.084479</td>\n",
       "      <td>0.033406</td>\n",
       "      <td>0.294299</td>\n",
       "      <td>0.107638</td>\n",
       "      <td>0.001916</td>\n",
       "      <td>0.048815</td>\n",
       "      <td>0.069147</td>\n",
       "    </tr>\n",
       "  </tbody>\n",
       "</table>\n",
       "<p>8 rows × 128 columns</p>\n",
       "</div>"
      ],
      "text/plain": [
       "               0            1            2            3            4    \\\n",
       "count  1080.000000  1080.000000  1080.000000  1080.000000  1080.000000   \n",
       "mean      0.110669     0.157751     0.022162     0.000018     0.118882   \n",
       "std       0.007941     0.013088     0.003643     0.000056     0.004518   \n",
       "min       0.092274     0.121793     0.014398     0.000000     0.107826   \n",
       "25%       0.105961     0.150873     0.019838     0.000000     0.116109   \n",
       "50%       0.109647     0.159198     0.021881     0.000000     0.118558   \n",
       "75%       0.118179     0.164532     0.025445     0.000000     0.121014   \n",
       "max       0.127484     0.189541     0.031535     0.000542     0.131702   \n",
       "\n",
       "               5            6            7            8            9    \\\n",
       "count  1080.000000  1080.000000  1080.000000  1080.000000  1080.000000   \n",
       "mean      0.117522     0.173365     0.095322     0.029871     0.075235   \n",
       "std       0.006497     0.007722     0.005343     0.003470     0.006404   \n",
       "min       0.097776     0.154215     0.082896     0.021457     0.058513   \n",
       "25%       0.114409     0.168237     0.091846     0.027458     0.070633   \n",
       "50%       0.117693     0.173249     0.094804     0.029332     0.074442   \n",
       "75%       0.121698     0.179442     0.098992     0.032405     0.080215   \n",
       "max       0.135334     0.192607     0.108652     0.039240     0.087202   \n",
       "\n",
       "          ...               118          119          120          121  \\\n",
       "count     ...       1080.000000  1080.000000  1080.000000  1080.000000   \n",
       "mean      ...          0.125714     0.076557     0.092160     0.069770   \n",
       "std       ...          0.009534     0.005236     0.009065     0.006691   \n",
       "min       ...          0.105092     0.063471     0.071516     0.058891   \n",
       "25%       ...          0.118039     0.073063     0.084151     0.064315   \n",
       "50%       ...          0.125099     0.076395     0.092830     0.069414   \n",
       "75%       ...          0.133039     0.081132     0.099956     0.073881   \n",
       "max       ...          0.145627     0.087250     0.108553     0.084479   \n",
       "\n",
       "               122          123          124          125          126  \\\n",
       "count  1080.000000  1080.000000  1080.000000  1080.000000  1080.000000   \n",
       "mean      0.025052     0.272707     0.095370     0.000161     0.037957   \n",
       "std       0.004126     0.009422     0.006811     0.000373     0.004305   \n",
       "min       0.015410     0.246458     0.073433     0.000000     0.027329   \n",
       "25%       0.023055     0.266337     0.090765     0.000000     0.034912   \n",
       "50%       0.025634     0.273915     0.096735     0.000000     0.037818   \n",
       "75%       0.027934     0.279368     0.100373     0.000105     0.040953   \n",
       "max       0.033406     0.294299     0.107638     0.001916     0.048815   \n",
       "\n",
       "               127  \n",
       "count  1080.000000  \n",
       "mean      0.056826  \n",
       "std       0.004749  \n",
       "min       0.042998  \n",
       "25%       0.053503  \n",
       "50%       0.056663  \n",
       "75%       0.060350  \n",
       "max       0.069147  \n",
       "\n",
       "[8 rows x 128 columns]"
      ]
     },
     "execution_count": 29,
     "metadata": {},
     "output_type": "execute_result"
    }
   ],
   "source": [
    "# Look at the simple statistics around the encodings\n",
    "dfstat = df.describe()\n",
    "dfstat"
   ]
  },
  {
   "cell_type": "code",
   "execution_count": 31,
   "metadata": {},
   "outputs": [
    {
     "name": "stdout",
     "output_type": "stream",
     "text": [
      "[9 9 9 ... 8 8 8]\n"
     ]
    }
   ],
   "source": [
    "# See how they all cluster\n",
    "from sklearn.cluster import KMeans\n",
    "\n",
    "number_of_clusters=24\n",
    "km = KMeans(n_clusters=number_of_clusters)\n",
    "# Normally people fit the matrix\n",
    "km.fit(df)\n",
    "print(km.labels_)"
   ]
  },
  {
   "cell_type": "code",
   "execution_count": 32,
   "metadata": {},
   "outputs": [
    {
     "data": {
      "text/html": [
       "<div>\n",
       "<style scoped>\n",
       "    .dataframe tbody tr th:only-of-type {\n",
       "        vertical-align: middle;\n",
       "    }\n",
       "\n",
       "    .dataframe tbody tr th {\n",
       "        vertical-align: top;\n",
       "    }\n",
       "\n",
       "    .dataframe thead th {\n",
       "        text-align: right;\n",
       "    }\n",
       "</style>\n",
       "<table border=\"1\" class=\"dataframe\">\n",
       "  <thead>\n",
       "    <tr style=\"text-align: right;\">\n",
       "      <th></th>\n",
       "      <th>ignore</th>\n",
       "    </tr>\n",
       "    <tr>\n",
       "      <th>category</th>\n",
       "      <th></th>\n",
       "    </tr>\n",
       "  </thead>\n",
       "  <tbody>\n",
       "    <tr>\n",
       "      <th>0</th>\n",
       "      <td>45</td>\n",
       "    </tr>\n",
       "    <tr>\n",
       "      <th>1</th>\n",
       "      <td>45</td>\n",
       "    </tr>\n",
       "    <tr>\n",
       "      <th>2</th>\n",
       "      <td>45</td>\n",
       "    </tr>\n",
       "    <tr>\n",
       "      <th>3</th>\n",
       "      <td>45</td>\n",
       "    </tr>\n",
       "    <tr>\n",
       "      <th>4</th>\n",
       "      <td>45</td>\n",
       "    </tr>\n",
       "    <tr>\n",
       "      <th>5</th>\n",
       "      <td>45</td>\n",
       "    </tr>\n",
       "    <tr>\n",
       "      <th>6</th>\n",
       "      <td>45</td>\n",
       "    </tr>\n",
       "    <tr>\n",
       "      <th>7</th>\n",
       "      <td>45</td>\n",
       "    </tr>\n",
       "    <tr>\n",
       "      <th>8</th>\n",
       "      <td>45</td>\n",
       "    </tr>\n",
       "    <tr>\n",
       "      <th>9</th>\n",
       "      <td>45</td>\n",
       "    </tr>\n",
       "    <tr>\n",
       "      <th>10</th>\n",
       "      <td>45</td>\n",
       "    </tr>\n",
       "    <tr>\n",
       "      <th>11</th>\n",
       "      <td>45</td>\n",
       "    </tr>\n",
       "    <tr>\n",
       "      <th>12</th>\n",
       "      <td>45</td>\n",
       "    </tr>\n",
       "    <tr>\n",
       "      <th>13</th>\n",
       "      <td>45</td>\n",
       "    </tr>\n",
       "    <tr>\n",
       "      <th>14</th>\n",
       "      <td>45</td>\n",
       "    </tr>\n",
       "    <tr>\n",
       "      <th>15</th>\n",
       "      <td>45</td>\n",
       "    </tr>\n",
       "    <tr>\n",
       "      <th>16</th>\n",
       "      <td>45</td>\n",
       "    </tr>\n",
       "    <tr>\n",
       "      <th>17</th>\n",
       "      <td>45</td>\n",
       "    </tr>\n",
       "    <tr>\n",
       "      <th>18</th>\n",
       "      <td>45</td>\n",
       "    </tr>\n",
       "    <tr>\n",
       "      <th>19</th>\n",
       "      <td>45</td>\n",
       "    </tr>\n",
       "    <tr>\n",
       "      <th>20</th>\n",
       "      <td>45</td>\n",
       "    </tr>\n",
       "    <tr>\n",
       "      <th>21</th>\n",
       "      <td>45</td>\n",
       "    </tr>\n",
       "    <tr>\n",
       "      <th>22</th>\n",
       "      <td>45</td>\n",
       "    </tr>\n",
       "    <tr>\n",
       "      <th>23</th>\n",
       "      <td>45</td>\n",
       "    </tr>\n",
       "  </tbody>\n",
       "</table>\n",
       "</div>"
      ],
      "text/plain": [
       "          ignore\n",
       "category        \n",
       "0             45\n",
       "1             45\n",
       "2             45\n",
       "3             45\n",
       "4             45\n",
       "5             45\n",
       "6             45\n",
       "7             45\n",
       "8             45\n",
       "9             45\n",
       "10            45\n",
       "11            45\n",
       "12            45\n",
       "13            45\n",
       "14            45\n",
       "15            45\n",
       "16            45\n",
       "17            45\n",
       "18            45\n",
       "19            45\n",
       "20            45\n",
       "21            45\n",
       "22            45\n",
       "23            45"
      ]
     },
     "execution_count": 32,
     "metadata": {},
     "output_type": "execute_result"
    }
   ],
   "source": [
    "# Convert results to a dataframe - note that to get the index / filename, I had to include the first column\n",
    "results = pd.DataFrame({\n",
    "    'ignore': df[0],\n",
    "    'category': km.labels_\n",
    "})\n",
    "results.groupby('category').count()"
   ]
  },
  {
   "cell_type": "code",
   "execution_count": 180,
   "metadata": {},
   "outputs": [],
   "source": [
    "#show the distance between images\n",
    "#  should be small distances between rotated images - ideally zero\n",
    "from scipy.spatial.distance import squareform, pdist\n",
    "distdf = pd.DataFrame(squareform(pdist(df.iloc[:, 1:])), columns = df.index.unique(), index=df.index.unique()) #, columns=df['image'].unique(), index=df['image'].unique())\n",
    "#distdf"
   ]
  },
  {
   "cell_type": "code",
   "execution_count": 181,
   "metadata": {},
   "outputs": [],
   "source": [
    "# Show the covariance between the columns - not useful since it's unscaled. :-(\n",
    "#covdf = df.cov()*10000 #, columns = df.index.unique(), index=df.index.unique()) #, columns=df['image'].unique(), index=df['image'].unique())\n",
    "#covdf"
   ]
  },
  {
   "cell_type": "code",
   "execution_count": 182,
   "metadata": {},
   "outputs": [],
   "source": [
    "# Show the correlation between the columns (which represent a global pool from the encoder convolutions)\n",
    "#   Correlation appears high, likely could do some PCA, but seems like tuning the autoencoder should be able to do that\n",
    "corrdf = df.corr() #, columns = df.index.unique(), index=df.index.unique()) #, columns=df['image'].unique(), index=df['image'].unique())\n",
    "#corrdf"
   ]
  },
  {
   "cell_type": "markdown",
   "metadata": {},
   "source": [
    "# Annoy for nearest neighbor search"
   ]
  },
  {
   "cell_type": "code",
   "execution_count": 57,
   "metadata": {},
   "outputs": [],
   "source": [
    "# Create Annoy database file\n",
    "\n",
    "from annoy import AnnoyIndex\n",
    "\n",
    "embedding_vector_size = 128\n",
    "\n",
    "f = embedding_vector_size      # Length of item vector that will be indexed\n",
    "t = AnnoyIndex(f)  \n",
    "\n",
    "for i in range(len(image_encoding_dict)):\n",
    "    t.add_item(i,image_encoding_dict[image_filename_dict[i]])\n",
    "    \n",
    "t.build(25) # 25 trees - need to explore what is a good setting here\n",
    "t.save(model_name + '.ann') # Save the model\n",
    "t.save('encoder-64x128-8x16x128-AvgPool-prod-core.ann')\n",
    "\n",
    "import pickle\n",
    "file = open(model_name + '.pkl',\"wb\")\n",
    "pickle.dump(image_filename_dict,file)\n",
    "file.close()\n"
   ]
  },
  {
   "cell_type": "code",
   "execution_count": 58,
   "metadata": {},
   "outputs": [
    {
     "name": "stdout",
     "output_type": "stream",
     "text": [
      "0 - images/1.jpg : 0.0\n",
      "89 - images/18.jpg : 0.026587802916765213\n",
      "51 - images/145.jpg : 0.03733743354678154\n",
      "137 - images/60.jpg : 0.0419006310403347\n",
      "93 - images/20.jpg : 0.04448811709880829\n"
     ]
    }
   ],
   "source": [
    "# Open Annoy database file get example\n",
    "\n",
    "sample_item_index = 0\n",
    "nn_count = 5 # count of nearest neighbors to find\n",
    "\n",
    "u = AnnoyIndex(f)\n",
    "u.load(model_name + '.ann') # super fast, will just mmap the file\n",
    "\n",
    "nn = u.get_nns_by_item(sample_item_index, nn_count) # will find the 5 nearest neighbors\n",
    "\n",
    "for i in nn:\n",
    "    distance = u.get_distance(sample_item_index, i)\n",
    "    print(str(i) + ' - ' + image_filename_dict[i] + ' : ' + str(distance))\n",
    "    \n",
    "\n"
   ]
  },
  {
   "cell_type": "code",
   "execution_count": 60,
   "metadata": {},
   "outputs": [
    {
     "name": "stdout",
     "output_type": "stream",
     "text": [
      "Number of pills with any errors:  0 out of 180.0 pills\n",
      "Number of pill image errors:      0 out of 180 images\n",
      "Number of pills with errors in 1:       0 out of 180.0 pills\n",
      "Number of pill image errors in top 1:   0 out of 180 images\n"
     ]
    }
   ],
   "source": [
    "# Calculate some metric of goodness. Basically, see how many pills clump when rotated. \n",
    "#   In other words, the 4 closest pills to pill 219 should be itself plus the three rotations of it.\n",
    "\n",
    "number_rotations = 1 # the total images for each pill\n",
    "top_n = 1 # only get the top n images for comparison - not looking for 100% perfection, just in top n results\n",
    "\n",
    "same_images={key: [key+i for i in range(number_rotations)] for key in image_filename_dict if key % number_rotations == 0}\n",
    "same_images # key is first value, value is list with all the similar images\n",
    "\n",
    "incorrect_pills = 0 #sum of count of pills\n",
    "incorrect_pill_images = 0 # sum of ALL the mistakes\n",
    "\n",
    "incorrect_pills_top_n = 0\n",
    "incorrect_pill_images_top_n = 0\n",
    "\n",
    "total_pills = len(image_filename_dict)/number_rotations\n",
    "total_pill_images = len(image_filename_dict)\n",
    "\n",
    "for key, value in same_images.items():\n",
    "    top_matches = u.get_nns_by_item(key, number_rotations)\n",
    "    mismatches = set(value)-set(top_matches)\n",
    "    if len(mismatches) != 0:\n",
    "        incorrect_pills += 1\n",
    "        incorrect_pill_images += len(mismatches)\n",
    "    \n",
    "    top_n_mismatches = set(top_matches[0:top_n])-set(value)\n",
    "    if len(top_n_mismatches) != 0:\n",
    "        incorrect_pills_top_n += 1\n",
    "        incorrect_pill_images_top_n += len(top_n_mismatches)  \n",
    "        \n",
    "        #print(image_filename_dict[top_n_mismatches.pop()])\n",
    "        #print(f'Image to match is {image_filename_dict[value[0]]}')\n",
    "        for i in top_matches:\n",
    "            print(image_filename_dict[i])\n",
    "        \n",
    "\n",
    "print(f'Number of pills with any errors:  {incorrect_pills} out of {total_pills} pills')\n",
    "print(f\"Number of pill image errors:      {incorrect_pill_images} out of {total_pill_images} images\")\n",
    "\n",
    "print(f'Number of pills with errors in {top_n}:       {incorrect_pills_top_n} out of {total_pills} pills')\n",
    "print(f\"Number of pill image errors in top {top_n}:   {incorrect_pill_images_top_n} out of {total_pill_images} images\")\n",
    "\n"
   ]
  },
  {
   "cell_type": "markdown",
   "metadata": {},
   "source": [
    "## Validate rotations with Annoy db with only unrotated values\n"
   ]
  },
  {
   "cell_type": "code",
   "execution_count": 65,
   "metadata": {},
   "outputs": [
    {
     "name": "stdout",
     "output_type": "stream",
     "text": [
      "0 - images/100_0.jpg : 0.0\n",
      "89 - images/101_95.jpg : 0.026587802916765213\n",
      "51 - images/101_13.jpg : 0.03733743354678154\n",
      "137 - images/103_105.jpg : 0.0419006310403347\n",
      "93 - images/102_118.jpg : 0.04448811709880829\n"
     ]
    }
   ],
   "source": [
    "# Open Annoy database file to get database\n",
    "\n",
    "sample_item_index = 0\n",
    "nn_count = 5 # count of nearest neighbors to find\n",
    "\n",
    "u = AnnoyIndex(f)\n",
    "\n",
    "# Load the right encoder - hard coded right now\n",
    "u.load('encoder-64x128-8x16x128-AvgPool-prod-core.ann')\n",
    "\n",
    "\n",
    "nn = u.get_nns_by_item(sample_item_index, nn_count) # will find the 5 nearest neighbors\n",
    "\n",
    "for i in nn:\n",
    "    distance = u.get_distance(sample_item_index, i)\n",
    "    print(str(i) + ' - ' + image_filename_dict[i] + ' : ' + str(distance))\n",
    "    \n",
    "\n"
   ]
  },
  {
   "cell_type": "code",
   "execution_count": 67,
   "metadata": {},
   "outputs": [
    {
     "name": "stdout",
     "output_type": "stream",
     "text": [
      "8100\n",
      "8100\n",
      "180\n"
     ]
    }
   ],
   "source": [
    "# Go up and run the encoder to get the needed dictionaries for all the rotated images. Will need to rerun stuff.\n",
    "\n",
    "print(len(image_encoding_dict))\n",
    "print(len(image_filename_dict))\n",
    "\n",
    "\n",
    "import pickle\n",
    "file = open(model_name + '.pkl',\"rb\")\n",
    "annoy_image_encoding_dict = pickle.load(file)\n",
    "file.close()\n",
    "\n",
    "print(len(annoy_image_encoding_dict))\n",
    "\n",
    "matches = {}\n",
    "\n",
    "# iterate through image_encoding_dict and find the nearest vector in the \n",
    "for key, encoding in image_encoding_dict.items():\n",
    "    #print(encoding)\n",
    "    closest_in_annoy = u.get_nns_by_vector(encoding, 1)\n",
    "    test_img_name = key\n",
    "    closest_annoy_img_name = annoy_image_encoding_dict[closest_in_annoy[0]]\n",
    "    matches[test_img_name] = closest_annoy_img_name\n",
    "    #print(f'{test_img_name} is closest to {closest_annoy_img_name}')\n",
    "\n",
    "#matches\n"
   ]
  },
  {
   "cell_type": "code",
   "execution_count": 68,
   "metadata": {},
   "outputs": [
    {
     "data": {
      "text/plain": [
       "12"
      ]
     },
     "execution_count": 68,
     "metadata": {},
     "output_type": "execute_result"
    }
   ],
   "source": [
    "# Turn into pandas dataframe for easier manipulation\n",
    "df = pd.DataFrame.from_dict(matches, orient='index', columns=['predicted_image_path'])\n",
    "df['input_image_path'] = df.index\n",
    "df.reset_index(inplace=True)\n",
    "df.drop('index', axis=1, inplace=True)\n",
    "df['predicted_image'] = df['predicted_image_path'].apply(lambda x: x.split('/')[1])\n",
    "df['predicted_image'] = df['predicted_image'].apply(lambda x: x.split('.')[0])\n",
    "\n",
    "df['input_image'] = df['input_image_path'].apply(lambda x: x.split('/')[1])\n",
    "df['input_image'] = df['input_image'].apply(lambda x: x.split('.')[0])\n",
    "df['input_image_base'] = df['input_image'].apply(lambda x: x.split('_')[0])\n",
    "df['input_image_rotation'] = df['input_image'].apply(lambda x: x.split('_')[1])\n",
    "\n",
    "\n",
    "errors = df[df['predicted_image'] != df['input_image_base']]\n",
    "len(errors)"
   ]
  },
  {
   "cell_type": "code",
   "execution_count": 70,
   "metadata": {
    "scrolled": true
   },
   "outputs": [
    {
     "data": {
      "text/html": [
       "<div>\n",
       "<style scoped>\n",
       "    .dataframe tbody tr th:only-of-type {\n",
       "        vertical-align: middle;\n",
       "    }\n",
       "\n",
       "    .dataframe tbody tr th {\n",
       "        vertical-align: top;\n",
       "    }\n",
       "\n",
       "    .dataframe thead th {\n",
       "        text-align: right;\n",
       "    }\n",
       "</style>\n",
       "<table border=\"1\" class=\"dataframe\">\n",
       "  <thead>\n",
       "    <tr style=\"text-align: right;\">\n",
       "      <th></th>\n",
       "      <th>predicted_image_path</th>\n",
       "      <th>input_image_path</th>\n",
       "      <th>predicted_image</th>\n",
       "      <th>input_image</th>\n",
       "      <th>input_image_base</th>\n",
       "      <th>input_image_rotation</th>\n",
       "    </tr>\n",
       "  </thead>\n",
       "  <tbody>\n",
       "    <tr>\n",
       "      <th>116</th>\n",
       "      <td>images/104.jpg</td>\n",
       "      <td>images/102_30.jpg</td>\n",
       "      <td>104</td>\n",
       "      <td>102_30</td>\n",
       "      <td>102</td>\n",
       "      <td>30</td>\n",
       "    </tr>\n",
       "    <tr>\n",
       "      <th>548</th>\n",
       "      <td>images/128.jpg</td>\n",
       "      <td>images/111_16.jpg</td>\n",
       "      <td>128</td>\n",
       "      <td>111_16</td>\n",
       "      <td>111</td>\n",
       "      <td>16</td>\n",
       "    </tr>\n",
       "    <tr>\n",
       "      <th>581</th>\n",
       "      <td>images/167.jpg</td>\n",
       "      <td>images/111_77.jpg</td>\n",
       "      <td>167</td>\n",
       "      <td>111_77</td>\n",
       "      <td>111</td>\n",
       "      <td>77</td>\n",
       "    </tr>\n",
       "    <tr>\n",
       "      <th>582</th>\n",
       "      <td>images/128.jpg</td>\n",
       "      <td>images/111_83.jpg</td>\n",
       "      <td>128</td>\n",
       "      <td>111_83</td>\n",
       "      <td>111</td>\n",
       "      <td>83</td>\n",
       "    </tr>\n",
       "    <tr>\n",
       "      <th>1147</th>\n",
       "      <td>images/21.jpg</td>\n",
       "      <td>images/123_251.jpg</td>\n",
       "      <td>21</td>\n",
       "      <td>123_251</td>\n",
       "      <td>123</td>\n",
       "      <td>251</td>\n",
       "    </tr>\n",
       "    <tr>\n",
       "      <th>1150</th>\n",
       "      <td>images/21.jpg</td>\n",
       "      <td>images/123_263.jpg</td>\n",
       "      <td>21</td>\n",
       "      <td>123_263</td>\n",
       "      <td>123</td>\n",
       "      <td>263</td>\n",
       "    </tr>\n",
       "    <tr>\n",
       "      <th>2010</th>\n",
       "      <td>images/179.jpg</td>\n",
       "      <td>images/140_347.jpg</td>\n",
       "      <td>179</td>\n",
       "      <td>140_347</td>\n",
       "      <td>140</td>\n",
       "      <td>347</td>\n",
       "    </tr>\n",
       "    <tr>\n",
       "      <th>3695</th>\n",
       "      <td>images/5.jpg</td>\n",
       "      <td>images/175_144.jpg</td>\n",
       "      <td>5</td>\n",
       "      <td>175_144</td>\n",
       "      <td>175</td>\n",
       "      <td>144</td>\n",
       "    </tr>\n",
       "    <tr>\n",
       "      <th>3726</th>\n",
       "      <td>images/131.jpg</td>\n",
       "      <td>images/175_346.jpg</td>\n",
       "      <td>131</td>\n",
       "      <td>175_346</td>\n",
       "      <td>175</td>\n",
       "      <td>346</td>\n",
       "    </tr>\n",
       "    <tr>\n",
       "      <th>6614</th>\n",
       "      <td>images/157.jpg</td>\n",
       "      <td>images/6_99.jpg</td>\n",
       "      <td>157</td>\n",
       "      <td>6_99</td>\n",
       "      <td>6</td>\n",
       "      <td>99</td>\n",
       "    </tr>\n",
       "    <tr>\n",
       "      <th>6944</th>\n",
       "      <td>images/110.jpg</td>\n",
       "      <td>images/77_175.jpg</td>\n",
       "      <td>110</td>\n",
       "      <td>77_175</td>\n",
       "      <td>77</td>\n",
       "      <td>175</td>\n",
       "    </tr>\n",
       "    <tr>\n",
       "      <th>6949</th>\n",
       "      <td>images/110.jpg</td>\n",
       "      <td>images/77_242.jpg</td>\n",
       "      <td>110</td>\n",
       "      <td>77_242</td>\n",
       "      <td>77</td>\n",
       "      <td>242</td>\n",
       "    </tr>\n",
       "  </tbody>\n",
       "</table>\n",
       "</div>"
      ],
      "text/plain": [
       "     predicted_image_path    input_image_path predicted_image input_image  \\\n",
       "116        images/104.jpg   images/102_30.jpg             104      102_30   \n",
       "548        images/128.jpg   images/111_16.jpg             128      111_16   \n",
       "581        images/167.jpg   images/111_77.jpg             167      111_77   \n",
       "582        images/128.jpg   images/111_83.jpg             128      111_83   \n",
       "1147        images/21.jpg  images/123_251.jpg              21     123_251   \n",
       "1150        images/21.jpg  images/123_263.jpg              21     123_263   \n",
       "2010       images/179.jpg  images/140_347.jpg             179     140_347   \n",
       "3695         images/5.jpg  images/175_144.jpg               5     175_144   \n",
       "3726       images/131.jpg  images/175_346.jpg             131     175_346   \n",
       "6614       images/157.jpg     images/6_99.jpg             157        6_99   \n",
       "6944       images/110.jpg   images/77_175.jpg             110      77_175   \n",
       "6949       images/110.jpg   images/77_242.jpg             110      77_242   \n",
       "\n",
       "     input_image_base input_image_rotation  \n",
       "116               102                   30  \n",
       "548               111                   16  \n",
       "581               111                   77  \n",
       "582               111                   83  \n",
       "1147              123                  251  \n",
       "1150              123                  263  \n",
       "2010              140                  347  \n",
       "3695              175                  144  \n",
       "3726              175                  346  \n",
       "6614                6                   99  \n",
       "6944               77                  175  \n",
       "6949               77                  242  "
      ]
     },
     "execution_count": 70,
     "metadata": {},
     "output_type": "execute_result"
    }
   ],
   "source": [
    "errors"
   ]
  },
  {
   "cell_type": "code",
   "execution_count": null,
   "metadata": {},
   "outputs": [],
   "source": []
  }
 ],
 "metadata": {
  "kernelspec": {
   "display_name": "Python 3",
   "language": "python",
   "name": "python3"
  },
  "language_info": {
   "codemirror_mode": {
    "name": "ipython",
    "version": 3
   },
   "file_extension": ".py",
   "mimetype": "text/x-python",
   "name": "python",
   "nbconvert_exporter": "python",
   "pygments_lexer": "ipython3",
   "version": "3.6.5"
  }
 },
 "nbformat": 4,
 "nbformat_minor": 2
}