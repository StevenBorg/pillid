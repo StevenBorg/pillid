{
 "cells": [
  {
   "cell_type": "code",
   "execution_count": 1,
   "metadata": {
    "collapsed": true
   },
   "outputs": [],
   "source": [
    "# This is the initial take of pulling the MNIST CBIR from https://blog.sicara.com/keras-tutorial-content-based-image-retrieval-convolutional-denoising-autoencoder-dc91450cc511\n",
    "#    and making it work in a Jupyter notebook.\n",
    "\n"
   ]
  },
  {
   "cell_type": "markdown",
   "metadata": {},
   "source": [
    "## Train model"
   ]
  },
  {
   "cell_type": "code",
   "execution_count": 2,
   "metadata": {},
   "outputs": [
    {
     "name": "stderr",
     "output_type": "stream",
     "text": [
      "Using TensorFlow backend.\n"
     ]
    }
   ],
   "source": [
    "# Import required items for training\n",
    "from keras.layers import Input, Conv2D, MaxPooling2D, UpSampling2D, ZeroPadding2D\n",
    "from keras.models import Model\n",
    "from keras.callbacks import TensorBoard\n",
    "from keras.datasets import mnist\n",
    "import numpy as np\n"
   ]
  },
  {
   "cell_type": "code",
   "execution_count": 3,
   "metadata": {},
   "outputs": [],
   "source": [
    "# Load the data (in that case MNIST)\n",
    "(x_train, y_train), (x_test, y_test) = mnist.load_data()\n",
    "\n",
    "x_train = x_train.astype('float32') / 255.\n",
    "x_test = x_test.astype('float32') / 255.\n",
    "x_train = np.reshape(x_train, (len(x_train), 28, 28, 1))  # adapt this if using `channels_first` image data format\n",
    "x_test = np.reshape(x_test, (len(x_test), 28, 28, 1))  # adapt this if using `channels_first` image data format\n",
    "\n",
    "#np.save('x_train')\n",
    "\n",
    "noise_factor = 0.5\n",
    "x_train_noisy = x_train + noise_factor * np.random.normal(loc=0.0, scale=1.0, size=x_train.shape)\n",
    "x_test_noisy = x_test + noise_factor * np.random.normal(loc=0.0, scale=1.0, size=x_test.shape)\n",
    "\n",
    "x_train_noisy = np.clip(x_train_noisy, 0., 1.)\n",
    "x_test_noisy = np.clip(x_test_noisy, 0., 1.)\n",
    "\n"
   ]
  },
  {
   "cell_type": "code",
   "execution_count": 4,
   "metadata": {
    "collapsed": true
   },
   "outputs": [],
   "source": [
    "def train_model():\n",
    "    input_img = Input(shape=(28, 28, 1))  # adapt this if using `channels_first` image data format\n",
    "    x = Conv2D(16, (3, 3), activation='relu', padding='same')(input_img)\n",
    "    x = MaxPooling2D((2, 2), padding='same')(x)\n",
    "    x = Conv2D(8, (3, 3), activation='relu', padding='same')(x)\n",
    "    x = MaxPooling2D((2, 2), padding='same')(x)\n",
    "    x = Conv2D(8, (3, 3), activation='relu', padding='same')(x)\n",
    "    encoded = MaxPooling2D((2, 2), padding='same', name='encoder')(x)\n",
    "\n",
    "    # at this point the representation is (4, 4, 8) i.e. 128-dimensional\n",
    "\n",
    "    x = Conv2D(8, (3, 3), activation='relu', padding='same')(encoded)\n",
    "    x = UpSampling2D((2, 2))(x)\n",
    "    x = Conv2D(8, (3, 3), activation='relu', padding='same')(x)\n",
    "    x = UpSampling2D((2, 2))(x)\n",
    "    x = Conv2D(16, (3, 3), activation='relu')(x)\n",
    "    x = UpSampling2D((2, 2))(x)\n",
    "    decoded = Conv2D(1, (3, 3), activation='sigmoid', padding='same')(x)\n",
    "\n",
    "    autoencoder = Model(input_img, decoded)\n",
    "    autoencoder.compile(optimizer='adadelta', loss='binary_crossentropy')\n",
    "\n",
    "    autoencoder.fit(x_train_noisy, x_train,\n",
    "                    epochs=20,\n",
    "                    batch_size=128,\n",
    "                    shuffle=True,\n",
    "                    validation_data=(x_test_noisy, x_test),\n",
    "                    callbacks=[TensorBoard(log_dir='/tmp/tb', histogram_freq=0, write_graph=False)])\n",
    "\n",
    "    autoencoder.save('autoencoder.h5')\n",
    "\n"
   ]
  },
  {
   "cell_type": "code",
   "execution_count": 5,
   "metadata": {
    "scrolled": true
   },
   "outputs": [
    {
     "name": "stdout",
     "output_type": "stream",
     "text": [
      "Train on 60000 samples, validate on 10000 samples\n",
      "Epoch 1/20\n",
      "60000/60000 [==============================] - 16s - loss: 0.2596 - val_loss: 0.2186\n",
      "Epoch 2/20\n",
      "60000/60000 [==============================] - 14s - loss: 0.1987 - val_loss: 0.1858\n",
      "Epoch 3/20\n",
      "60000/60000 [==============================] - 14s - loss: 0.1798 - val_loss: 0.1713\n",
      "Epoch 4/20\n",
      "60000/60000 [==============================] - 14s - loss: 0.1701 - val_loss: 0.1630\n",
      "Epoch 5/20\n",
      "60000/60000 [==============================] - 14s - loss: 0.1629 - val_loss: 0.1580\n",
      "Epoch 6/20\n",
      "60000/60000 [==============================] - 14s - loss: 0.1575 - val_loss: 0.1524\n",
      "Epoch 7/20\n",
      "60000/60000 [==============================] - 14s - loss: 0.1534 - val_loss: 0.1515\n",
      "Epoch 8/20\n",
      "60000/60000 [==============================] - 14s - loss: 0.1504 - val_loss: 0.1481\n",
      "Epoch 9/20\n",
      "60000/60000 [==============================] - 14s - loss: 0.1479 - val_loss: 0.1458\n",
      "Epoch 10/20\n",
      "60000/60000 [==============================] - 14s - loss: 0.1458 - val_loss: 0.1441\n",
      "Epoch 11/20\n",
      "60000/60000 [==============================] - 14s - loss: 0.1440 - val_loss: 0.1412\n",
      "Epoch 12/20\n",
      "60000/60000 [==============================] - 14s - loss: 0.1425 - val_loss: 0.1406\n",
      "Epoch 13/20\n",
      "60000/60000 [==============================] - 14s - loss: 0.1415 - val_loss: 0.1402\n",
      "Epoch 14/20\n",
      "60000/60000 [==============================] - 14s - loss: 0.1398 - val_loss: 0.1376\n",
      "Epoch 15/20\n",
      "60000/60000 [==============================] - 13s - loss: 0.1387 - val_loss: 0.1374\n",
      "Epoch 16/20\n",
      "60000/60000 [==============================] - 14s - loss: 0.1377 - val_loss: 0.1363\n",
      "Epoch 17/20\n",
      "60000/60000 [==============================] - 13s - loss: 0.1368 - val_loss: 0.1345\n",
      "Epoch 18/20\n",
      "60000/60000 [==============================] - 13s - loss: 0.1359 - val_loss: 0.1335\n",
      "Epoch 19/20\n",
      "60000/60000 [==============================] - 14s - loss: 0.1353 - val_loss: 0.1338\n",
      "Epoch 20/20\n",
      "60000/60000 [==============================] - 14s - loss: 0.1345 - val_loss: 0.1320\n"
     ]
    }
   ],
   "source": [
    "# Train the model\n",
    "train_model()"
   ]
  },
  {
   "cell_type": "code",
   "execution_count": null,
   "metadata": {
    "collapsed": true
   },
   "outputs": [],
   "source": []
  },
  {
   "cell_type": "markdown",
   "metadata": {},
   "source": [
    "## Test the model"
   ]
  },
  {
   "cell_type": "code",
   "execution_count": 6,
   "metadata": {
    "collapsed": true
   },
   "outputs": [],
   "source": [
    "# Import needed libraries\n",
    "import numpy as np\n",
    "from keras.models import Model\n",
    "from keras.datasets import mnist\n",
    "import cv2\n",
    "from keras.models import load_model\n",
    "from sklearn.metrics import label_ranking_average_precision_score\n",
    "import time\n",
    "\n"
   ]
  },
  {
   "cell_type": "code",
   "execution_count": 7,
   "metadata": {},
   "outputs": [
    {
     "name": "stdout",
     "output_type": "stream",
     "text": [
      "Loading mnist dataset\n",
      "mnist dataset loaded in:  4.407006502151489\n"
     ]
    }
   ],
   "source": [
    "# Load MNIST to generate testing data\n",
    "print('Loading mnist dataset')\n",
    "t0 = time.time()\n",
    "(x_train, y_train), (x_test, y_test) = mnist.load_data()\n",
    "x_train = x_train.astype('float32') / 255.\n",
    "x_test = x_test.astype('float32') / 255.\n",
    "x_train = np.reshape(x_train, (len(x_train), 28, 28, 1))  # adapt this if using `channels_first` image data format\n",
    "x_test = np.reshape(x_test, (len(x_test), 28, 28, 1))  # adapt this if using `channels_first` image data format\n",
    "\n",
    "noise_factor = 0.5\n",
    "x_train_noisy = x_train + noise_factor * np.random.normal(loc=0.0, scale=1.0, size=x_train.shape)\n",
    "x_test_noisy = x_test + noise_factor * np.random.normal(loc=0.0, scale=1.0, size=x_test.shape)\n",
    "\n",
    "x_train_noisy = np.clip(x_train_noisy, 0., 1.)\n",
    "x_test_noisy = np.clip(x_test_noisy, 0., 1.)\n",
    "t1 = time.time()\n",
    "print('mnist dataset loaded in: ', t1-t0)\n",
    "\n"
   ]
  },
  {
   "cell_type": "code",
   "execution_count": 8,
   "metadata": {},
   "outputs": [
    {
     "name": "stdout",
     "output_type": "stream",
     "text": [
      "Loading model :\n",
      "Model loaded in:  2.3210012912750244\n"
     ]
    }
   ],
   "source": [
    "# Load the model trained above\n",
    "print('Loading model :')\n",
    "t0 = time.time()\n",
    "autoencoder = load_model('autoencoder.h5')\n",
    "encoder = Model(inputs=autoencoder.input, outputs=autoencoder.get_layer('encoder').output)\n",
    "t1 = time.time()\n",
    "print('Model loaded in: ', t1-t0)\n",
    "\n",
    "scores = []"
   ]
  },
  {
   "cell_type": "code",
   "execution_count": 9,
   "metadata": {
    "collapsed": true
   },
   "outputs": [],
   "source": [
    "# Create methods for determining closest image\n",
    "def retrieve_closest_elements(test_code, test_label, learned_codes):\n",
    "    distances = []\n",
    "    for code in learned_codes:\n",
    "        distance = np.linalg.norm(code - test_code)\n",
    "        distances.append(distance)\n",
    "    nb_elements = learned_codes.shape[0]\n",
    "    distances = np.array(distances)\n",
    "    learned_code_index = np.arange(nb_elements)\n",
    "    labels = np.copy(y_train).astype('float32')\n",
    "    labels[labels != test_label] = -1\n",
    "    labels[labels == test_label] = 1\n",
    "    labels[labels == -1] = 0\n",
    "    distance_with_labels = np.stack((distances, labels, learned_code_index), axis=-1)\n",
    "    sorted_distance_with_labels = distance_with_labels[distance_with_labels[:, 0].argsort()]\n",
    "\n",
    "    sorted_distances = 28 - sorted_distance_with_labels[:, 0]\n",
    "    sorted_labels = sorted_distance_with_labels[:, 1]\n",
    "    sorted_indexes = sorted_distance_with_labels[:, 2]\n",
    "    return sorted_distances, sorted_labels, sorted_indexes\n",
    "\n",
    "\n",
    "def compute_average_precision_score(test_codes, test_labels, learned_codes, n_samples):\n",
    "    out_labels = []\n",
    "    out_distances = []\n",
    "    retrieved_elements_indexes = []\n",
    "    for i in range(len(test_codes)):\n",
    "        sorted_distances, sorted_labels, sorted_indexes = retrieve_closest_elements(test_codes[i], test_labels[i], learned_codes)\n",
    "        out_distances.append(sorted_distances[:n_samples])\n",
    "        out_labels.append(sorted_labels[:n_samples])\n",
    "        retrieved_elements_indexes.append(sorted_indexes[:n_samples])\n",
    "\n",
    "    out_labels = np.array(out_labels)\n",
    "    out_labels_file_name = 'computed_data/out_labels_{}'.format(n_samples)\n",
    "    np.save(out_labels_file_name, out_labels)\n",
    "\n",
    "    out_distances_file_name = 'computed_data/out_distances_{}'.format(n_samples)\n",
    "    out_distances = np.array(out_distances)\n",
    "    np.save(out_distances_file_name, out_distances)\n",
    "    score = label_ranking_average_precision_score(out_labels, out_distances)\n",
    "    scores.append(score)\n",
    "    return score\n",
    "\n",
    "\n",
    "def retrieve_closest_images(test_element, test_label, n_samples=10):\n",
    "    learned_codes = encoder.predict(x_train)\n",
    "    learned_codes = learned_codes.reshape(learned_codes.shape[0],\n",
    "                                          learned_codes.shape[1] * learned_codes.shape[2] * learned_codes.shape[3])\n",
    "\n",
    "    test_code = encoder.predict(np.array([test_element]))\n",
    "    test_code = test_code.reshape(test_code.shape[1] * test_code.shape[2] * test_code.shape[3])\n",
    "\n",
    "    distances = []\n",
    "\n",
    "    for code in learned_codes:\n",
    "        distance = np.linalg.norm(code - test_code)\n",
    "        distances.append(distance)\n",
    "    nb_elements = learned_codes.shape[0]\n",
    "    distances = np.array(distances)\n",
    "    learned_code_index = np.arange(nb_elements)\n",
    "    labels = np.copy(y_train).astype('float32')\n",
    "    labels[labels != test_label] = -1\n",
    "    labels[labels == test_label] = 1\n",
    "    labels[labels == -1] = 0\n",
    "    distance_with_labels = np.stack((distances, labels, learned_code_index), axis=-1)\n",
    "    sorted_distance_with_labels = distance_with_labels[distance_with_labels[:, 0].argsort()]\n",
    "\n",
    "    sorted_distances = 28 - sorted_distance_with_labels[:, 0]\n",
    "    sorted_labels = sorted_distance_with_labels[:, 1]\n",
    "    sorted_indexes = sorted_distance_with_labels[:, 2]\n",
    "    kept_indexes = sorted_indexes[:n_samples]\n",
    "\n",
    "    score = label_ranking_average_precision_score(np.array([sorted_labels[:n_samples]]), np.array([sorted_distances[:n_samples]]))\n",
    "\n",
    "    print(\"Average precision ranking score for tested element is {}\".format(score))\n",
    "\n",
    "    original_image = x_test[0]\n",
    "    cv2.imshow('original_image', original_image)\n",
    "    retrieved_images = x_train[int(kept_indexes[0]), :]\n",
    "    for i in range(1, n_samples):\n",
    "        retrieved_images = np.hstack((retrieved_images, x_train[int(kept_indexes[i]), :]))\n",
    "    cv2.imshow('Results', retrieved_images)\n",
    "    cv2.waitKey(0)\n",
    "\n",
    "    cv2.imwrite('test_results/original_image.jpg', 255 * cv2.resize(original_image, (0,0), fx=3, fy=3))\n",
    "    cv2.imwrite('test_results/retrieved_results.jpg', 255 * cv2.resize(retrieved_images, (0,0), fx=2, fy=2))\n",
    "\n"
   ]
  },
  {
   "cell_type": "code",
   "execution_count": null,
   "metadata": {
    "collapsed": true
   },
   "outputs": [],
   "source": [
    "# Create methods to test the model\n",
    "def test_model(n_test_samples, n_train_samples):\n",
    "    learned_codes = encoder.predict(x_train)\n",
    "    learned_codes = learned_codes.reshape(learned_codes.shape[0], learned_codes.shape[1] * learned_codes.shape[2] * learned_codes.shape[3])\n",
    "    test_codes = encoder.predict(x_test)\n",
    "    test_codes = test_codes.reshape(test_codes.shape[0], test_codes.shape[1] * test_codes.shape[2] * test_codes.shape[3])\n",
    "    indexes = np.arange(len(y_test))\n",
    "    np.random.shuffle(indexes)\n",
    "    indexes = indexes[:n_test_samples]\n",
    "\n",
    "    print('Start computing score for {} train samples'.format(n_train_samples))\n",
    "    t1 = time.time()\n",
    "    score = compute_average_precision_score(test_codes[indexes], y_test[indexes], learned_codes, n_train_samples)\n",
    "    t2 = time.time()\n",
    "    print('Score computed in: ', t2-t1)\n",
    "    print('Model score:', score)\n",
    "\n",
    "\n",
    "def plot_denoised_images():\n",
    "    denoised_images = autoencoder.predict(x_test_noisy.reshape(x_test_noisy.shape[0], x_test_noisy.shape[1], x_test_noisy.shape[2], 1))\n",
    "    test_img = x_test_noisy[0]\n",
    "    resized_test_img = cv2.resize(test_img, (280, 280))\n",
    "    cv2.imshow('input', resized_test_img)\n",
    "    cv2.waitKey(0)\n",
    "    output = denoised_images[0]\n",
    "    resized_output = cv2.resize(output, (280, 280))\n",
    "    cv2.imshow('output', resized_output)\n",
    "    cv2.waitKey(0)\n",
    "    cv2.imwrite('test_results/noisy_image.jpg', 255 * resized_test_img)\n",
    "    cv2.imwrite('test_results/denoised_image.jpg', 255 * resized_output)\n"
   ]
  },
  {
   "cell_type": "code",
   "execution_count": null,
   "metadata": {
    "scrolled": true
   },
   "outputs": [
    {
     "name": "stdout",
     "output_type": "stream",
     "text": [
      "Start computing score for 10 train samples\n",
      "Score computed in:  51.8251211643219\n",
      "Model score: 0.946198467813\n",
      "Average precision ranking score for tested element is 1.0\n"
     ]
    }
   ],
   "source": [
    "\n",
    "# To test the whole model\n",
    "n_test_samples = 100\n",
    "#n_train_samples = [10, 50, 100, 200, 300, 400, 500, 750, 1000, 2000, 3000, 4000, 5000, 6000, 7000, 8000, 9000, 10000,\n",
    "#                   20000, 30000, 40000, 50000, 60000]\n",
    "\n",
    "n_train_samples = [10]\n",
    "\n",
    "for n_train_sample in n_train_samples:\n",
    "    test_model(n_test_samples, n_train_sample)\n",
    "\n",
    "np.save('computed_data/scores', np.array(scores))\n",
    "\n",
    "\n",
    "# To retrieve closest image\n",
    "retrieve_closest_images(x_test[0], y_test[0])\n",
    "\n",
    "\n"
   ]
  },
  {
   "cell_type": "code",
   "execution_count": null,
   "metadata": {
    "collapsed": true
   },
   "outputs": [],
   "source": [
    "\n",
    "# To plot a denoised image\n",
    "plot_denoised_images()"
   ]
  },
  {
   "cell_type": "code",
   "execution_count": null,
   "metadata": {
    "collapsed": true
   },
   "outputs": [],
   "source": []
  }
 ],
 "metadata": {
  "kernelspec": {
   "display_name": "Python [conda env:py35]",
   "language": "python",
   "name": "conda-env-py35-py"
  },
  "language_info": {
   "codemirror_mode": {
    "name": "ipython",
    "version": 3
   },
   "file_extension": ".py",
   "mimetype": "text/x-python",
   "name": "python",
   "nbconvert_exporter": "python",
   "pygments_lexer": "ipython3",
   "version": "3.5.4"
  }
 },
 "nbformat": 4,
 "nbformat_minor": 2
}
