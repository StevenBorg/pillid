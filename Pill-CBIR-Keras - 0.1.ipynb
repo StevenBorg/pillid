{
 "cells": [
  {
   "cell_type": "code",
   "execution_count": 1,
   "metadata": {
    "collapsed": true
   },
   "outputs": [],
   "source": [
    "# This is the initial take of pulling the MNIST CBIR from https://blog.sicara.com/keras-tutorial-content-based-image-retrieval-convolutional-denoising-autoencoder-dc91450cc511\n",
    "#    and making it work in a Jupyter notebook for unrotated pill images.\n",
    "\n"
   ]
  },
  {
   "cell_type": "code",
   "execution_count": 2,
   "metadata": {},
   "outputs": [
    {
     "name": "stderr",
     "output_type": "stream",
     "text": [
      "Using TensorFlow backend.\n"
     ]
    },
    {
     "data": {
      "text/plain": [
       "'2.0.8'"
      ]
     },
     "execution_count": 2,
     "metadata": {},
     "output_type": "execute_result"
    }
   ],
   "source": [
    "import keras\n",
    "keras.__version__"
   ]
  },
  {
   "cell_type": "code",
   "execution_count": 3,
   "metadata": {
    "scrolled": true
   },
   "outputs": [
    {
     "name": "stdout",
     "output_type": "stream",
     "text": [
      "[name: \"/cpu:0\"\n",
      "device_type: \"CPU\"\n",
      "memory_limit: 268435456\n",
      "locality {\n",
      "}\n",
      "incarnation: 15037799917158589676\n",
      ", name: \"/gpu:0\"\n",
      "device_type: \"GPU\"\n",
      "memory_limit: 11222096282\n",
      "locality {\n",
      "  bus_id: 1\n",
      "}\n",
      "incarnation: 5621339992980514925\n",
      "physical_device_desc: \"device: 0, name: Tesla K80, pci bus id: 474a:00:00.0\"\n",
      "]\n"
     ]
    }
   ],
   "source": [
    "from tensorflow.python.client import device_lib\n",
    "print(device_lib.list_local_devices())"
   ]
  },
  {
   "cell_type": "code",
   "execution_count": 69,
   "metadata": {
    "collapsed": true
   },
   "outputs": [],
   "source": [
    "import tensorflow as tf\n",
    "sess = tf.Session(config=tf.ConfigProto(log_device_placement=True))"
   ]
  },
  {
   "cell_type": "code",
   "execution_count": 4,
   "metadata": {},
   "outputs": [],
   "source": [
    "from keras import backend as K\n",
    "#K.tensorflow_backend._get_available_gpus()"
   ]
  },
  {
   "cell_type": "markdown",
   "metadata": {},
   "source": [
    "## Train model"
   ]
  },
  {
   "cell_type": "code",
   "execution_count": 5,
   "metadata": {
    "collapsed": true
   },
   "outputs": [],
   "source": [
    "# Import required items for training\n",
    "from keras.layers import Input, Conv2D, MaxPooling2D, UpSampling2D, ZeroPadding2D\n",
    "from keras.models import Model\n",
    "from keras.callbacks import TensorBoard, EarlyStopping\n",
    "from keras import callbacks\n",
    "from keras.datasets import mnist\n",
    "from keras.preprocessing.image import ImageDataGenerator\n",
    "import numpy as np\n",
    "\n",
    "\n",
    "# For training\n",
    "# Import needed libraries\n",
    "import numpy as np\n",
    "from keras.models import Model\n",
    "from keras.datasets import mnist\n",
    "import cv2\n",
    "from keras.models import load_model\n",
    "from sklearn.metrics import label_ranking_average_precision_score\n",
    "import time\n",
    "import matplotlib.pyplot as plt\n",
    "import matplotlib.image as mpimg\n"
   ]
  },
  {
   "cell_type": "code",
   "execution_count": 15,
   "metadata": {},
   "outputs": [
    {
     "name": "stdout",
     "output_type": "stream",
     "text": [
      "Found 181 images belonging to 1 classes.\n",
      "Found 48 images belonging to 1 classes.\n"
     ]
    }
   ],
   "source": [
    "# Load the data (in that case MNIST)\n",
    "train_datagen = ImageDataGenerator(\n",
    "        shear_range=0.05,\n",
    "        zoom_range=0.01,\n",
    "        rotation_range=5.00,\n",
    "        height_shift_range=0.10,\n",
    "        width_shift_range=0.10,\n",
    "        rescale=1. / 255,\n",
    "        horizontal_flip=False)\n",
    "\n",
    "validation_datagen = ImageDataGenerator(rescale=1. / 255)\n",
    "\n",
    "train_generator = train_datagen.flow_from_directory(\n",
    "        'data/train',\n",
    "        target_size=(100, 100),\n",
    "        batch_size=16,\n",
    "        class_mode='input',\n",
    "        color_mode='rgb')\n",
    "\n",
    "validation_generator = validation_datagen.flow_from_directory(\n",
    "        'data/validate',\n",
    "        target_size=(100, 100),\n",
    "        batch_size=32,\n",
    "        class_mode='input',\n",
    "        color_mode='rgb')\n",
    "\n"
   ]
  },
  {
   "cell_type": "code",
   "execution_count": 16,
   "metadata": {},
   "outputs": [
    {
     "name": "stdout",
     "output_type": "stream",
     "text": [
      "Found 24 images belonging to 1 classes.\n"
     ]
    }
   ],
   "source": [
    "# Get 16 sample images to use throughout all the training for visualization\n",
    "# Load Test images to generate testing data\n",
    "sample_datagen = ImageDataGenerator(rescale=1. / 255)\n",
    "\n",
    "sample_generator = sample_datagen.flow_from_directory(\n",
    "        'data/test',\n",
    "        target_size=(100, 100),\n",
    "        batch_size=16,\n",
    "        class_mode='input',\n",
    "        color_mode='rgb')\n",
    "\n",
    "next_batch = next(sample_generator)\n",
    "sample_images = next_batch[0]\n",
    "#test_image=images[0]\n",
    "\n",
    "\n",
    "\n",
    "\n",
    "#plt.imshow(first_image)\n",
    "\n",
    "#plt.show()\n"
   ]
  },
  {
   "cell_type": "code",
   "execution_count": null,
   "metadata": {
    "collapsed": true
   },
   "outputs": [],
   "source": []
  },
  {
   "cell_type": "code",
   "execution_count": null,
   "metadata": {
    "collapsed": true
   },
   "outputs": [],
   "source": []
  },
  {
   "cell_type": "code",
   "execution_count": 17,
   "metadata": {
    "collapsed": true
   },
   "outputs": [],
   "source": [
    "def define_model():\n",
    "    input_img = Input(shape=(100, 100, 3))  # adapt this if using `channels_first` image data format\n",
    "    x = Conv2D(16, (3, 3), activation='relu', padding='same')(input_img)\n",
    "    x = MaxPooling2D((2, 2), padding='same')(x)\n",
    "    x = Conv2D(8, (3, 3), activation='relu', padding='same')(x)\n",
    "    x = MaxPooling2D((2, 2), padding='same')(x)\n",
    "    x = Conv2D(8, (3, 3), activation='relu', padding='same')(x)\n",
    "    encoded = MaxPooling2D((2, 2), padding='same', name='encoder')(x)\n",
    "\n",
    "    # at this point the representation is (4, 4, 8) i.e. 128-dimensional\n",
    "\n",
    "    x = Conv2D(8, (3, 3), activation='relu', padding='same')(encoded)\n",
    "    x = UpSampling2D((2, 2))(x)\n",
    "    x = Conv2D(8, (3, 3), activation='relu', padding='same')(x)\n",
    "    x = UpSampling2D((2, 2))(x)\n",
    "    x = Conv2D(16, (3, 3), activation='relu')(x)\n",
    "    x = UpSampling2D((2, 2))(x)\n",
    "    decoded = Conv2D(3, (3, 3), activation='sigmoid', padding='same', name='decoded')(x)\n",
    "\n",
    "    autoencoder = Model(input_img, decoded)\n",
    "    autoencoder.compile(optimizer='adadelta', loss='binary_crossentropy')\n",
    "\n",
    "    print(autoencoder.outputs)\n",
    "        \n",
    "    return autoencoder\n",
    "    \n",
    "    #autoencoder.fit_generator(\n",
    "    #    train_generator,\n",
    "    #    steps_per_epoch=2000,\n",
    "    #    epochs=10,\n",
    "    #    validation_data=validation_generator,\n",
    "    #    validation_steps=800)\n",
    "        #callbacks=[TensorBoard(log_dir='/tmp/tb', histogram_freq=0, write_graph=False)])\n",
    "    \n",
    "    # autoencoder.save('autoencoder_pill.h5')\n",
    "\n"
   ]
  },
  {
   "cell_type": "code",
   "execution_count": 18,
   "metadata": {
    "collapsed": true
   },
   "outputs": [],
   "source": [
    "class ProgressCallback(callbacks.Callback):\n",
    "    def on_epoch_end(self, epoch, logs={}):\n",
    "        #print('epoch ended')\n",
    "        #print(self.model)\n",
    "        \n",
    "        processed_images = self.model.predict(x=sample_images,batch_size=16)\n",
    "                \n",
    "        # plot the image\n",
    "        f = plt.figure()\n",
    "        f.add_subplot(1, 2, 1)  # this line outputs images side-by-side\n",
    "        plt.imshow(sample_images[0])\n",
    "        f.add_subplot(1, 2, 2)  # this line outputs images side-by-side\n",
    "        plt.imshow(processed_images[0])\n",
    "        plt.suptitle('Epoch ' + str(epoch))\n",
    "        filename = 'epoch-' + str(epoch) + '.png'\n",
    "        plt.savefig(filename)\n",
    "        plt.close()\n",
    "        #plt.show()\n"
   ]
  },
  {
   "cell_type": "code",
   "execution_count": 19,
   "metadata": {
    "collapsed": true
   },
   "outputs": [],
   "source": [
    "\n",
    "\n",
    "def train_model(model_to_train):\n",
    "    progress = ProgressCallback()\n",
    "    early_stop = EarlyStopping(monitor='val_loss',\n",
    "                              min_delta=0,\n",
    "                              patience=4,\n",
    "                              verbose=0, mode='auto')\n",
    "    model_to_train.fit_generator(\n",
    "        train_generator,\n",
    "        steps_per_epoch=1000,\n",
    "        epochs=100,\n",
    "        validation_data=validation_generator,\n",
    "        validation_steps=100,\n",
    "        callbacks=[TensorBoard(log_dir='/tmp/tb', histogram_freq=0, write_graph=False),progress,early_stop])\n",
    "    \n",
    "    model_to_train.save('autoencoder_pill4.h5')\n",
    "    \n",
    "    return model_to_train"
   ]
  },
  {
   "cell_type": "code",
   "execution_count": 20,
   "metadata": {
    "scrolled": true
   },
   "outputs": [
    {
     "name": "stdout",
     "output_type": "stream",
     "text": [
      "[<tf.Tensor 'decoded_1/Sigmoid:0' shape=(?, 100, 100, 3) dtype=float32>]\n"
     ]
    }
   ],
   "source": [
    "# Train the model\n",
    "x = define_model()"
   ]
  },
  {
   "cell_type": "code",
   "execution_count": 21,
   "metadata": {},
   "outputs": [
    {
     "name": "stdout",
     "output_type": "stream",
     "text": [
      "_________________________________________________________________\n",
      "Layer (type)                 Output Shape              Param #   \n",
      "=================================================================\n",
      "input_2 (InputLayer)         (None, 100, 100, 3)       0         \n",
      "_________________________________________________________________\n",
      "conv2d_7 (Conv2D)            (None, 100, 100, 16)      448       \n",
      "_________________________________________________________________\n",
      "max_pooling2d_3 (MaxPooling2 (None, 50, 50, 16)        0         \n",
      "_________________________________________________________________\n",
      "conv2d_8 (Conv2D)            (None, 50, 50, 8)         1160      \n",
      "_________________________________________________________________\n",
      "max_pooling2d_4 (MaxPooling2 (None, 25, 25, 8)         0         \n",
      "_________________________________________________________________\n",
      "conv2d_9 (Conv2D)            (None, 25, 25, 8)         584       \n",
      "_________________________________________________________________\n",
      "encoder (MaxPooling2D)       (None, 13, 13, 8)         0         \n",
      "_________________________________________________________________\n",
      "conv2d_10 (Conv2D)           (None, 13, 13, 8)         584       \n",
      "_________________________________________________________________\n",
      "up_sampling2d_4 (UpSampling2 (None, 26, 26, 8)         0         \n",
      "_________________________________________________________________\n",
      "conv2d_11 (Conv2D)           (None, 26, 26, 8)         584       \n",
      "_________________________________________________________________\n",
      "up_sampling2d_5 (UpSampling2 (None, 52, 52, 8)         0         \n",
      "_________________________________________________________________\n",
      "conv2d_12 (Conv2D)           (None, 50, 50, 16)        1168      \n",
      "_________________________________________________________________\n",
      "up_sampling2d_6 (UpSampling2 (None, 100, 100, 16)      0         \n",
      "_________________________________________________________________\n",
      "decoded (Conv2D)             (None, 100, 100, 3)       435       \n",
      "=================================================================\n",
      "Total params: 4,963\n",
      "Trainable params: 4,963\n",
      "Non-trainable params: 0\n",
      "_________________________________________________________________\n",
      "None\n"
     ]
    }
   ],
   "source": [
    "print(x.summary())\n"
   ]
  },
  {
   "cell_type": "code",
   "execution_count": 22,
   "metadata": {
    "collapsed": true
   },
   "outputs": [],
   "source": [
    "progress = ProgressCallback()"
   ]
  },
  {
   "cell_type": "code",
   "execution_count": 23,
   "metadata": {},
   "outputs": [
    {
     "name": "stdout",
     "output_type": "stream",
     "text": [
      "Epoch 1/100\n",
      "1000/1000 [==============================] - 71s - loss: 0.2888 - val_loss: 0.1613\n",
      "Epoch 2/100\n",
      "1000/1000 [==============================] - 56s - loss: 0.2533 - val_loss: 0.1564\n",
      "Epoch 3/100\n",
      "1000/1000 [==============================] - 56s - loss: 0.2506 - val_loss: 0.1563\n",
      "Epoch 4/100\n",
      "1000/1000 [==============================] - 57s - loss: 0.2486 - val_loss: 0.1541\n",
      "Epoch 5/100\n",
      "1000/1000 [==============================] - 57s - loss: 0.2477 - val_loss: 0.1546\n",
      "Epoch 6/100\n",
      "1000/1000 [==============================] - 57s - loss: 0.2470 - val_loss: 0.1539\n",
      "Epoch 7/100\n",
      "1000/1000 [==============================] - 57s - loss: 0.2467 - val_loss: 0.1541\n",
      "Epoch 8/100\n",
      "1000/1000 [==============================] - 58s - loss: 0.2461 - val_loss: 0.1531\n",
      "Epoch 9/100\n",
      "1000/1000 [==============================] - 57s - loss: 0.2461 - val_loss: 0.1541\n",
      "Epoch 10/100\n",
      "1000/1000 [==============================] - 55s - loss: 0.2458 - val_loss: 0.1526\n",
      "Epoch 11/100\n",
      "1000/1000 [==============================] - 56s - loss: 0.2454 - val_loss: 0.1528\n",
      "Epoch 12/100\n",
      "1000/1000 [==============================] - 56s - loss: 0.2456 - val_loss: 0.1526\n",
      "Epoch 13/100\n",
      "1000/1000 [==============================] - 56s - loss: 0.2457 - val_loss: 0.1525\n",
      "Epoch 14/100\n",
      "1000/1000 [==============================] - 57s - loss: 0.2452 - val_loss: 0.1523\n",
      "Epoch 15/100\n",
      "1000/1000 [==============================] - 57s - loss: 0.2451 - val_loss: 0.1523\n",
      "Epoch 16/100\n",
      "1000/1000 [==============================] - 55s - loss: 0.2450 - val_loss: 0.1524\n",
      "Epoch 17/100\n",
      "1000/1000 [==============================] - 56s - loss: 0.2446 - val_loss: 0.1522\n",
      "Epoch 18/100\n",
      "1000/1000 [==============================] - 56s - loss: 0.2450 - val_loss: 0.1528\n",
      "Epoch 19/100\n",
      "1000/1000 [==============================] - 56s - loss: 0.2448 - val_loss: 0.1521\n",
      "Epoch 20/100\n",
      "1000/1000 [==============================] - 58s - loss: 0.2444 - val_loss: 0.1531\n",
      "Epoch 21/100\n",
      "1000/1000 [==============================] - 56s - loss: 0.2449 - val_loss: 0.1521\n",
      "Epoch 22/100\n",
      "1000/1000 [==============================] - 57s - loss: 0.2445 - val_loss: 0.1520\n",
      "Epoch 23/100\n",
      "1000/1000 [==============================] - 57s - loss: 0.2446 - val_loss: 0.1525\n",
      "Epoch 24/100\n",
      "1000/1000 [==============================] - 56s - loss: 0.2444 - val_loss: 0.1520\n",
      "Epoch 25/100\n",
      "1000/1000 [==============================] - 57s - loss: 0.2443 - val_loss: 0.1521\n",
      "Epoch 26/100\n",
      "1000/1000 [==============================] - 57s - loss: 0.2442 - val_loss: 0.1520\n",
      "Epoch 27/100\n",
      "1000/1000 [==============================] - 57s - loss: 0.2444 - val_loss: 0.1520\n",
      "Epoch 28/100\n",
      "1000/1000 [==============================] - 57s - loss: 0.2447 - val_loss: 0.1525\n",
      "Epoch 29/100\n",
      "1000/1000 [==============================] - 58s - loss: 0.2444 - val_loss: 0.1520\n",
      "Epoch 30/100\n",
      "1000/1000 [==============================] - 57s - loss: 0.2443 - val_loss: 0.1520\n",
      "Epoch 31/100\n",
      "1000/1000 [==============================] - 55s - loss: 0.2440 - val_loss: 0.1525\n",
      "Epoch 32/100\n",
      "1000/1000 [==============================] - 55s - loss: 0.2440 - val_loss: 0.1517\n",
      "Epoch 33/100\n",
      "1000/1000 [==============================] - 56s - loss: 0.2442 - val_loss: 0.1519\n",
      "Epoch 34/100\n",
      "1000/1000 [==============================] - 56s - loss: 0.2443 - val_loss: 0.1522\n",
      "Epoch 35/100\n",
      "1000/1000 [==============================] - 57s - loss: 0.2444 - val_loss: 0.1521\n",
      "Epoch 36/100\n",
      "1000/1000 [==============================] - 57s - loss: 0.2442 - val_loss: 0.1517\n",
      "Epoch 37/100\n",
      "1000/1000 [==============================] - 57s - loss: 0.2441 - val_loss: 0.1517\n",
      "Epoch 38/100\n",
      "1000/1000 [==============================] - 55s - loss: 0.2437 - val_loss: 0.1526\n",
      "Epoch 39/100\n",
      "1000/1000 [==============================] - 55s - loss: 0.2440 - val_loss: 0.1519\n",
      "Epoch 40/100\n",
      "1000/1000 [==============================] - 55s - loss: 0.2440 - val_loss: 0.1516\n",
      "Epoch 41/100\n",
      "1000/1000 [==============================] - 56s - loss: 0.2437 - val_loss: 0.1518\n",
      "Epoch 42/100\n",
      "1000/1000 [==============================] - 56s - loss: 0.2442 - val_loss: 0.1517\n",
      "Epoch 43/100\n",
      "1000/1000 [==============================] - 57s - loss: 0.2439 - val_loss: 0.1516\n",
      "Epoch 44/100\n",
      "1000/1000 [==============================] - 57s - loss: 0.2438 - val_loss: 0.1515\n",
      "Epoch 45/100\n",
      "1000/1000 [==============================] - 55s - loss: 0.2440 - val_loss: 0.1515\n",
      "Epoch 46/100\n",
      "1000/1000 [==============================] - 55s - loss: 0.2441 - val_loss: 0.1515\n",
      "Epoch 47/100\n",
      "1000/1000 [==============================] - 56s - loss: 0.2438 - val_loss: 0.1516\n",
      "Epoch 48/100\n",
      "1000/1000 [==============================] - 56s - loss: 0.2440 - val_loss: 0.1515\n",
      "Epoch 49/100\n",
      "1000/1000 [==============================] - 57s - loss: 0.2438 - val_loss: 0.1514\n",
      "Epoch 50/100\n",
      "1000/1000 [==============================] - 57s - loss: 0.2439 - val_loss: 0.1526\n",
      "Epoch 51/100\n",
      "1000/1000 [==============================] - 55s - loss: 0.2439 - val_loss: 0.1520\n",
      "Epoch 52/100\n",
      "1000/1000 [==============================] - 55s - loss: 0.2436 - val_loss: 0.1530\n",
      "Epoch 53/100\n",
      "1000/1000 [==============================] - 55s - loss: 0.2438 - val_loss: 0.1514\n",
      "Epoch 54/100\n",
      "1000/1000 [==============================] - 56s - loss: 0.2432 - val_loss: 0.1513\n",
      "Epoch 55/100\n",
      "1000/1000 [==============================] - 56s - loss: 0.2434 - val_loss: 0.1513\n",
      "Epoch 56/100\n",
      "1000/1000 [==============================] - 57s - loss: 0.2434 - val_loss: 0.1517\n",
      "Epoch 57/100\n",
      "1000/1000 [==============================] - 56s - loss: 0.2436 - val_loss: 0.1515\n",
      "Epoch 58/100\n",
      "1000/1000 [==============================] - 55s - loss: 0.2433 - val_loss: 0.1518\n",
      "Epoch 59/100\n",
      "1000/1000 [==============================] - 56s - loss: 0.2437 - val_loss: 0.1518\n"
     ]
    }
   ],
   "source": [
    "autoencoder = train_model(x)"
   ]
  },
  {
   "cell_type": "code",
   "execution_count": null,
   "metadata": {
    "collapsed": true
   },
   "outputs": [],
   "source": [
    "#!pip3 install jupyter-tensorboard\n"
   ]
  },
  {
   "cell_type": "code",
   "execution_count": null,
   "metadata": {
    "collapsed": true
   },
   "outputs": [],
   "source": [
    "#!tensorboard --logdir=/tmp/tb"
   ]
  },
  {
   "cell_type": "markdown",
   "metadata": {},
   "source": [
    "## Test the model"
   ]
  },
  {
   "cell_type": "code",
   "execution_count": null,
   "metadata": {
    "collapsed": true
   },
   "outputs": [],
   "source": [
    "# Import needed libraries\n",
    "import numpy as np\n",
    "from keras.models import Model\n",
    "from keras.datasets import mnist\n",
    "import cv2\n",
    "from keras.models import load_model\n",
    "from sklearn.metrics import label_ranking_average_precision_score\n",
    "import time\n",
    "import matplotlib.pyplot as plt\n",
    "import matplotlib.image as mpimg\n",
    "\n"
   ]
  },
  {
   "cell_type": "code",
   "execution_count": null,
   "metadata": {
    "collapsed": true
   },
   "outputs": [],
   "source": [
    "# Load the model trained above\n",
    "print('Loading model :')\n",
    "t0 = time.time()\n",
    "autoencoder = load_model('autoencoder_pill.h5')\n",
    "encoder = Model(inputs=autoencoder.input, outputs=autoencoder.get_layer('encoder').output)\n",
    "t1 = time.time()\n",
    "print('Model loaded in: ', t1-t0)\n",
    "\n",
    "scores = []"
   ]
  },
  {
   "cell_type": "code",
   "execution_count": null,
   "metadata": {
    "collapsed": true
   },
   "outputs": [],
   "source": [
    "# Load Test images to generate testing data\n",
    "test_datagen = ImageDataGenerator(rescale=1. / 255)\n",
    "\n",
    "test_generator = test_datagen.flow_from_directory(\n",
    "        'data/test',\n",
    "        target_size=(100, 100),\n",
    "        batch_size=32,\n",
    "        class_mode='input',\n",
    "        color_mode='rgb')\n",
    "\n",
    "\n",
    "\n",
    "\n",
    "\n"
   ]
  },
  {
   "cell_type": "code",
   "execution_count": null,
   "metadata": {
    "collapsed": true
   },
   "outputs": [],
   "source": [
    "# Let's just view a few input images and output images\n",
    "\n",
    "next_batch = next(test_generator)\n",
    "images = next_batch[0]\n",
    "first_image=images[0]\n",
    "second_image=images[1]\n",
    "\n",
    "plt.imshow(first_image)\n",
    "plt.show()\n",
    "\n",
    "#plt.imshow(second_image)\n",
    "#plt.show()\n",
    "\n",
    "recreated_pill = autoencoder.predict(x=images,batch_size=32)\n",
    "\n",
    "plt.imshow(recreated_pill[0])\n",
    "plt.show()\n",
    "\n",
    "#categories = next_batch[1]\n",
    "#print(categories[0])"
   ]
  },
  {
   "cell_type": "code",
   "execution_count": null,
   "metadata": {
    "collapsed": true
   },
   "outputs": [],
   "source": [
    "# For confusion matrix, you need two items, y_test and y_pred\n",
    "#     y_test is the known categorical values of the test set \n",
    "#     y_pred is the predicted categorical values of the test set \n",
    "\n",
    "# To get y_test we'll use the validation_generator, but let's grab all images\n",
    "#test_generator.batch_size = 751\n",
    "\n",
    "nb_batches_to_capture = 1 # batches * batch_size should be less than total number of items available, else repeats will happen\n",
    "\n",
    "y_true = []\n",
    "y_pred = []\n",
    "\n",
    "for index in range(nb_batches_to_capture):\n",
    "    next_batch = next(test_generator)\n",
    "    #images = next_batch[0]\n",
    "    print(images[0])\n",
    "    categories = next_batch[1]\n",
    "    #print(categories[0])\n",
    "    #print(len(categories))\n",
    "    # To get y_pred, we actually need to predict the categories of the all_images set\n",
    "    #predicted_categories= model.predict_classes(x=images,batch_size=batch_size)\n",
    "    #print(len(predicted_categories))\n",
    "    #if len(categories) == len(predicted_categories):\n",
    "    #    y_true.extend(categories)\n",
    "    #    y_pred.extend(predicted_categories)\n",
    "    #else:\n",
    "    #    print(\"Mismatched actual and predicted - ignoring batch\")\n",
    "    \n",
    "print(len(y_true))\n",
    "print(len(y_pred))"
   ]
  },
  {
   "cell_type": "code",
   "execution_count": null,
   "metadata": {
    "collapsed": true
   },
   "outputs": [],
   "source": [
    "# Create methods for determining closest image\n",
    "def retrieve_closest_elements(test_code, test_label, learned_codes):\n",
    "    distances = []\n",
    "    for code in learned_codes:\n",
    "        distance = np.linalg.norm(code - test_code)\n",
    "        distances.append(distance)\n",
    "    nb_elements = learned_codes.shape[0]\n",
    "    distances = np.array(distances)\n",
    "    learned_code_index = np.arange(nb_elements)\n",
    "    labels = np.copy(y_train).astype('float32')\n",
    "    labels[labels != test_label] = -1\n",
    "    labels[labels == test_label] = 1\n",
    "    labels[labels == -1] = 0\n",
    "    distance_with_labels = np.stack((distances, labels, learned_code_index), axis=-1)\n",
    "    sorted_distance_with_labels = distance_with_labels[distance_with_labels[:, 0].argsort()]\n",
    "\n",
    "    sorted_distances = 28 - sorted_distance_with_labels[:, 0]\n",
    "    sorted_labels = sorted_distance_with_labels[:, 1]\n",
    "    sorted_indexes = sorted_distance_with_labels[:, 2]\n",
    "    return sorted_distances, sorted_labels, sorted_indexes\n",
    "\n",
    "\n",
    "def compute_average_precision_score(test_codes, test_labels, learned_codes, n_samples):\n",
    "    out_labels = []\n",
    "    out_distances = []\n",
    "    retrieved_elements_indexes = []\n",
    "    for i in range(len(test_codes)):\n",
    "        sorted_distances, sorted_labels, sorted_indexes = retrieve_closest_elements(test_codes[i], test_labels[i], learned_codes)\n",
    "        out_distances.append(sorted_distances[:n_samples])\n",
    "        out_labels.append(sorted_labels[:n_samples])\n",
    "        retrieved_elements_indexes.append(sorted_indexes[:n_samples])\n",
    "\n",
    "    out_labels = np.array(out_labels)\n",
    "    out_labels_file_name = 'computed_data/out_labels_{}'.format(n_samples)\n",
    "    np.save(out_labels_file_name, out_labels)\n",
    "\n",
    "    out_distances_file_name = 'computed_data/out_distances_{}'.format(n_samples)\n",
    "    out_distances = np.array(out_distances)\n",
    "    np.save(out_distances_file_name, out_distances)\n",
    "    score = label_ranking_average_precision_score(out_labels, out_distances)\n",
    "    scores.append(score)\n",
    "    return score\n",
    "\n",
    "\n",
    "def retrieve_closest_images(test_element, test_label, n_samples=10):\n",
    "    learned_codes = encoder.predict(x_train)\n",
    "    learned_codes = learned_codes.reshape(learned_codes.shape[0],\n",
    "                                          learned_codes.shape[1] * learned_codes.shape[2] * learned_codes.shape[3])\n",
    "\n",
    "    test_code = encoder.predict(np.array([test_element]))\n",
    "    test_code = test_code.reshape(test_code.shape[1] * test_code.shape[2] * test_code.shape[3])\n",
    "\n",
    "    distances = []\n",
    "\n",
    "    for code in learned_codes:\n",
    "        distance = np.linalg.norm(code - test_code)\n",
    "        distances.append(distance)\n",
    "    nb_elements = learned_codes.shape[0]\n",
    "    distances = np.array(distances)\n",
    "    learned_code_index = np.arange(nb_elements)\n",
    "    labels = np.copy(y_train).astype('float32')\n",
    "    labels[labels != test_label] = -1\n",
    "    labels[labels == test_label] = 1\n",
    "    labels[labels == -1] = 0\n",
    "    distance_with_labels = np.stack((distances, labels, learned_code_index), axis=-1)\n",
    "    sorted_distance_with_labels = distance_with_labels[distance_with_labels[:, 0].argsort()]\n",
    "\n",
    "    sorted_distances = 28 - sorted_distance_with_labels[:, 0]\n",
    "    sorted_labels = sorted_distance_with_labels[:, 1]\n",
    "    sorted_indexes = sorted_distance_with_labels[:, 2]\n",
    "    kept_indexes = sorted_indexes[:n_samples]\n",
    "\n",
    "    score = label_ranking_average_precision_score(np.array([sorted_labels[:n_samples]]), np.array([sorted_distances[:n_samples]]))\n",
    "\n",
    "    print(\"Average precision ranking score for tested element is {}\".format(score))\n",
    "\n",
    "    original_image = x_test[0]\n",
    "    cv2.imshow('original_image', original_image)\n",
    "    retrieved_images = x_train[int(kept_indexes[0]), :]\n",
    "    for i in range(1, n_samples):\n",
    "        retrieved_images = np.hstack((retrieved_images, x_train[int(kept_indexes[i]), :]))\n",
    "    cv2.imshow('Results', retrieved_images)\n",
    "    #cv2.waitKey(0)\n",
    "\n",
    "    cv2.imwrite('test_results/original_image.jpg', 255 * cv2.resize(original_image, (0,0), fx=3, fy=3))\n",
    "    cv2.imwrite('test_results/retrieved_results.jpg', 255 * cv2.resize(retrieved_images, (0,0), fx=2, fy=2))\n",
    "\n"
   ]
  },
  {
   "cell_type": "code",
   "execution_count": null,
   "metadata": {
    "collapsed": true
   },
   "outputs": [],
   "source": [
    "# Create methods to test the model\n",
    "def test_model(n_test_samples, n_train_samples):\n",
    "    learned_codes = encoder.predict(x_train)\n",
    "    learned_codes = learned_codes.reshape(learned_codes.shape[0], learned_codes.shape[1] * learned_codes.shape[2] * learned_codes.shape[3])\n",
    "    test_codes = encoder.predict(x_test)\n",
    "    test_codes = test_codes.reshape(test_codes.shape[0], test_codes.shape[1] * test_codes.shape[2] * test_codes.shape[3])\n",
    "    indexes = np.arange(len(y_test))\n",
    "    np.random.shuffle(indexes)\n",
    "    indexes = indexes[:n_test_samples]\n",
    "\n",
    "    print('Start computing score for {} train samples'.format(n_train_samples))\n",
    "    t1 = time.time()\n",
    "    score = compute_average_precision_score(test_codes[indexes], y_test[indexes], learned_codes, n_train_samples)\n",
    "    t2 = time.time()\n",
    "    print('Score computed in: ', t2-t1)\n",
    "    print('Model score:', score)\n",
    "\n",
    "\n",
    "def plot_denoised_images():\n",
    "    denoised_images = autoencoder.predict(x_test_noisy.reshape(x_test_noisy.shape[0], x_test_noisy.shape[1], x_test_noisy.shape[2], 1))\n",
    "    test_img = x_test_noisy[0]\n",
    "    resized_test_img = cv2.resize(test_img, (280, 280))\n",
    "    #cv2.imshow('input', resized_test_img)\n",
    "    #cv2.waitKey(0)\n",
    "    output = denoised_images[0]\n",
    "    resized_output = cv2.resize(output, (280, 280))\n",
    "    #cv2.imshow('output', resized_output)\n",
    "    #cv2.waitKey(0)\n",
    "    cv2.imwrite('test_results/noisy_image.jpg', 255 * resized_test_img)\n",
    "    cv2.imwrite('test_results/denoised_image.jpg', 255 * resized_output)\n"
   ]
  },
  {
   "cell_type": "code",
   "execution_count": null,
   "metadata": {
    "collapsed": true,
    "scrolled": false
   },
   "outputs": [],
   "source": [
    "\n",
    "# To test the whole model\n",
    "n_test_samples = 100\n",
    "#n_train_samples = [10, 50, 100, 200, 300, 400, 500, 750, 1000, 2000, 3000, 4000, 5000, 6000, 7000, 8000, 9000, 10000,\n",
    "#                   20000, 30000, 40000, 50000, 60000]\n",
    "\n",
    "n_train_samples = [10]\n",
    "\n",
    "for n_train_sample in n_train_samples:\n",
    "    test_model(n_test_samples, n_train_sample)\n",
    "\n",
    "\n",
    "\n",
    "\n",
    "\n",
    "\n"
   ]
  },
  {
   "cell_type": "code",
   "execution_count": null,
   "metadata": {
    "collapsed": true
   },
   "outputs": [],
   "source": [
    "# Save model\n",
    "np.save('computed_data/scores', np.array(scores))"
   ]
  },
  {
   "cell_type": "code",
   "execution_count": null,
   "metadata": {
    "collapsed": true
   },
   "outputs": [],
   "source": [
    "# To retrieve closest image\n",
    "retrieve_closest_images(x_test[0], y_test[0])\n"
   ]
  },
  {
   "cell_type": "code",
   "execution_count": null,
   "metadata": {
    "collapsed": true
   },
   "outputs": [],
   "source": [
    "\n",
    "# To plot a denoised image\n",
    "plot_denoised_images()"
   ]
  },
  {
   "cell_type": "code",
   "execution_count": null,
   "metadata": {
    "collapsed": true
   },
   "outputs": [],
   "source": [
    "print('hello')"
   ]
  },
  {
   "cell_type": "code",
   "execution_count": null,
   "metadata": {
    "collapsed": true
   },
   "outputs": [],
   "source": []
  }
 ],
 "metadata": {
  "kernelspec": {
   "display_name": "Python 3",
   "language": "python",
   "name": "python3"
  },
  "language_info": {
   "codemirror_mode": {
    "name": "ipython",
    "version": 3
   },
   "file_extension": ".py",
   "mimetype": "text/x-python",
   "name": "python",
   "nbconvert_exporter": "python",
   "pygments_lexer": "ipython3",
   "version": "3.6.5"
  }
 },
 "nbformat": 4,
 "nbformat_minor": 2
}
